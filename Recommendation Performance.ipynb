{
 "cells": [
  {
   "cell_type": "code",
   "execution_count": null,
   "id": "100318bd",
   "metadata": {},
   "outputs": [],
   "source": [
    "import os,sys,inspect\n",
    "currentdir = os.path.dirname(os.path.abspath(inspect.getfile(inspect.currentframe())))\n",
    "parentdir = os.path.dirname(currentdir)\n",
    "sys.path.insert(0,parentdir) \n",
    "\n",
    "data_key = 'ml-1m/'\n",
    "# data_key = 'amz_Movies_and_TV/'\n",
    "# data_key = 'amz_Electronics/'\n",
    "from data.preprocess import ROOT\n",
    "target_path = ROOT + data_key"
   ]
  },
  {
   "cell_type": "markdown",
   "id": "4632fb77",
   "metadata": {},
   "source": [
    "### 1. Extract Results from Logs"
   ]
  },
  {
   "cell_type": "code",
   "execution_count": null,
   "id": "b031c4d2",
   "metadata": {
    "scrolled": true
   },
   "outputs": [],
   "source": [
    "from utils import extract_results\n",
    "log_path = target_path + \"logs/\"\n",
    "control_args = ['lr', 'l2_coef', 'fair_group_feature', 'fair_lambda', 'fair_noise_sigma', 'n_local_step']\n",
    "results = extract_results(log_path, control_args, \"f2rec_train_and_eval\")\n",
    "print(results.keys())"
   ]
  },
  {
   "cell_type": "code",
   "execution_count": null,
   "id": "5b68ca8e",
   "metadata": {
    "scrolled": true
   },
   "outputs": [],
   "source": [
    "import json\n",
    "print(\"Example:\")\n",
    "print(json.dumps(list(results.values())[0], indent = 4))"
   ]
  },
  {
   "cell_type": "code",
   "execution_count": null,
   "id": "05c435af",
   "metadata": {},
   "outputs": [],
   "source": [
    "import numpy as np\n",
    "metrics = [f\"{m_name}@{i}\" for i in [1,5,10,20,50] for m_name in ['HR', 'RECALL', 'P', 'F1', 'NDCG']] + [\"AUC\", \"MR\", \"MRR\"]\n",
    "# for m_name in ['HR', 'RECALL', 'P', 'F1', 'NDCG']:\n",
    "#     metrics += [f\"{m_name}@{i}\" for i in [1,5,10,20,50]]\n",
    "# metrics += [\"AUC\", \"MR\", \"MRR\"]\n",
    "for m_name in metrics:\n",
    "    for k, res_dict in results.items():\n",
    "        if m_name in res_dict:\n",
    "            res_dict[m_name] = np.mean(res_dict[m_name])"
   ]
  },
  {
   "cell_type": "code",
   "execution_count": null,
   "id": "0a5f6b62",
   "metadata": {},
   "outputs": [],
   "source": [
    "import pandas as pd\n",
    "df = pd.DataFrame.from_dict(results, orient = 'index')\n",
    "df"
   ]
  },
  {
   "cell_type": "code",
   "execution_count": null,
   "id": "8651cb09",
   "metadata": {},
   "outputs": [],
   "source": [
    "import os\n",
    "import datetime\n",
    "try:\n",
    "    os.mkdir(target_path + \"results/\")\n",
    "except:\n",
    "    print(\"Dir exists: '\" + target_path + \"results/'\")\n",
    "result_file_path = target_path + \"results/recommendation_performance.csv\"\n",
    "# result_file_path = target_path + \"results/\" + datetime.datetime.now().strftime('%Y%m%d_%H%M%S') + \".csv\"\n",
    "df.to_csv(result_file_path, sep = '\\t')"
   ]
  },
  {
   "cell_type": "markdown",
   "id": "2adceabe",
   "metadata": {},
   "source": [
    "## Plots"
   ]
  },
  {
   "cell_type": "code",
   "execution_count": null,
   "id": "752718db",
   "metadata": {},
   "outputs": [],
   "source": [
    "result_file_path = target_path + \"results/recommendation_performance.csv\"\n",
    "df = pd.read_csv(result_file_path, sep = '\\t')\n",
    "df = df.astype({'fair_group_feature': str})\n",
    "df"
   ]
  },
  {
   "cell_type": "markdown",
   "id": "b8c9d8da",
   "metadata": {},
   "source": [
    "### 1. Lambda plot"
   ]
  },
  {
   "cell_type": "code",
   "execution_count": null,
   "id": "fc79d054",
   "metadata": {
    "scrolled": true
   },
   "outputs": [],
   "source": [
    "def get_fair_model_lambda_comparison(df, model_name, params, selected_lambda):\n",
    "    '''\n",
    "    @output:\n",
    "    - lambda_result: {metric: [value]}\n",
    "    '''\n",
    "    compare_feature = 'fair_lambda'\n",
    "    subset = df[df['model_name'] == model_name]\n",
    "    for k,v in params.items():\n",
    "        subset = subset[subset[k] == v]\n",
    "    lambda_rows = {lbd:idx for idx,lbd in enumerate(np.array(subset['fair_lambda']))}\n",
    "    selected_rows = [lambda_rows[lbd] for lbd in selected_lambda]\n",
    "    return {m: np.array(subset[m])[selected_rows] for m in metrics}\n",
    "\n",
    "def get_single_model_performance(df, model_name, params):\n",
    "    '''\n",
    "    @output:\n",
    "    - lambda_result: {metric: value}\n",
    "    '''\n",
    "    compare_feature = 'fair_lambda'\n",
    "    subset = df[df['model_name'] == model_name]\n",
    "    for k,v in params.items():\n",
    "        subset = subset[subset[k] == v]\n",
    "    return {m: np.array(subset[m])[0] for m in metrics}"
   ]
  },
  {
   "cell_type": "code",
   "execution_count": null,
   "id": "13d4c20b",
   "metadata": {},
   "outputs": [],
   "source": [
    "selected_lambda = [-0.7,-0.5,-0.3,-0.1,0.1,0.3,0.5,0.7,0.9]\n",
    "# selected_lambda = [-0.1,0.1,0.3,0.5,0.7,0.9]\n",
    "\n",
    "'''\n",
    "ML1M\n",
    "'''\n",
    "mf_result = get_single_model_performance(df, 'MF', {'lr': 0.0001, 'l2_coef': 0.1, 'fair_group_feature': 'nan'})\n",
    "fedmf_result = get_single_model_performance(df, 'FedMF', {'lr': 0.003, 'l2_coef': 0.1, 'fair_group_feature': 'nan', 'n_local_step': 1})\n",
    "\n",
    "fairmf_result = get_fair_model_lambda_comparison(df, 'MF',\n",
    "        {'lr': 0.00003, 'l2_coef': 0.1, 'fair_group_feature': 'activity'}, selected_lambda)\n",
    "# f3mf_result = get_fair_model_lambda_comparison(df, 'FedMF',\n",
    "#         {'lr': 0.003, 'l2_coef': 0.1, 'fair_group_feature': 'activity', 'fair_noise_sigma': 0}, selected_lambda)\n",
    "f2mf_result = get_fair_model_lambda_comparison(df, 'FedMF',\n",
    "        {'lr': 0.003, 'l2_coef': 0.1, 'fair_group_feature': 'activity', 'fair_noise_sigma': 0.01}, selected_lambda)\n",
    "\n",
    "'''\n",
    "Movies\n",
    "'''\n",
    "# mf_result = get_single_model_performance(df, 'MF', {'lr': 0.0001, 'l2_coef': 0.1, 'fair_group_feature': 'nan'})\n",
    "# fedmf_result = get_single_model_performance(df, 'FedMF', {'lr': 0.003, 'l2_coef': 0.1, 'fair_group_feature': 'nan', 'n_local_step': 1})\n",
    "# fairmf_result = get_fair_model_lambda_comparison(df, 'MF', \n",
    "#         {'lr': 0.00001, 'l2_coef': 1.0, 'fair_group_feature': 'activity'}, selected_lambda)\n",
    "# # f3mf_result = get_fair_model_lambda_comparison(df, 'FedMF', \n",
    "# #         {'lr': 0.003, 'l2_coef': 1.0, 'fair_group_feature': 'activity', 'fair_noise_sigma': 0}, selected_lambda)\n",
    "# f2mf_result = get_fair_model_lambda_comparison(df, 'FedMF', \n",
    "#         {'lr': 0.003, 'l2_coef': 1.0, 'fair_group_feature': 'activity', 'fair_noise_sigma': 0.001}, selected_lambda)\n",
    "\n",
    "fair_model_results = {'FairMF': fairmf_result, 'F2MF': f2mf_result}"
   ]
  },
  {
   "cell_type": "code",
   "execution_count": null,
   "id": "1113794e",
   "metadata": {},
   "outputs": [],
   "source": [
    "from utils import plot_recommendation_over_lambda\n",
    "import matplotlib.pyplot as plt\n",
    "plt.rcParams.update({'font.size': 14})\n",
    "selected_metrics = ['RECALL@10','F1@10','NDCG@10','RECALL@50','F1@50','NDCG@50']\n",
    "model_colors = {'MF': '#a01010', 'FairMF': '#f04040', 'FedMF': '#1010a0', 'F3MF': '#4040f0', 'F2MF': '#4040f0'}\n",
    "for i in range(len(selected_metrics)):\n",
    "    plot_recommendation_over_lambda(fair_model_results, selected_lambda, [selected_metrics[i]], \n",
    "                                    row_height = 4, ncol = 3, other_model_results = {'MF': mf_result, 'FedMF': fedmf_result}, \n",
    "                                    legend_appear_at = 0, colors = model_colors)"
   ]
  },
  {
   "cell_type": "code",
   "execution_count": null,
   "id": "f1b752f8",
   "metadata": {},
   "outputs": [],
   "source": []
  }
 ],
 "metadata": {
  "kernelspec": {
   "display_name": "EdgeCDR",
   "language": "python",
   "name": "edgecdr"
  },
  "language_info": {
   "codemirror_mode": {
    "name": "ipython",
    "version": 3
   },
   "file_extension": ".py",
   "mimetype": "text/x-python",
   "name": "python",
   "nbconvert_exporter": "python",
   "pygments_lexer": "ipython3",
   "version": "3.7.9"
  }
 },
 "nbformat": 4,
 "nbformat_minor": 5
}
