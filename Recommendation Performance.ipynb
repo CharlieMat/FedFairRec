{
 "cells": [
  {
   "cell_type": "code",
   "execution_count": 1,
   "id": "100318bd",
   "metadata": {},
   "outputs": [],
   "source": [
    "import os,sys,inspect\n",
    "currentdir = os.path.dirname(os.path.abspath(inspect.getfile(inspect.currentframe())))\n",
    "parentdir = os.path.dirname(currentdir)\n",
    "sys.path.insert(0,parentdir) \n",
    "\n",
    "# data_key = 'ml-1m/'\n",
    "data_key = 'amz_Books/'\n",
    "# data_key = 'amz_Movies_and_TV/'\n",
    "PROCESSED_DATA_ROOT = \"/home/sl1471/workspace/experiments/\"\n",
    "target_path = PROCESSED_DATA_ROOT + data_key"
   ]
  },
  {
   "cell_type": "markdown",
   "id": "4632fb77",
   "metadata": {},
   "source": [
    "### 1. Extract Results from Logs"
   ]
  },
  {
   "cell_type": "code",
   "execution_count": 2,
   "id": "b031c4d2",
   "metadata": {},
   "outputs": [
    {
     "name": "stderr",
     "output_type": "stream",
     "text": [
      "19it [00:00, 355.04it/s]"
     ]
    },
    {
     "name": "stdout",
     "output_type": "stream",
     "text": [
      "dict_keys([0, 1, 2, 3, 4, 7, 8, 9, 10, 11, 12, 13, 14, 15, 16, 18])\n"
     ]
    },
    {
     "name": "stderr",
     "output_type": "stream",
     "text": [
      "\n"
     ]
    }
   ],
   "source": [
    "from utils import extract_results\n",
    "log_path = target_path + \"logs/\"\n",
    "# results = extract_results(log_path, ['n_interest', 'threshold_c'])\n",
    "# results = extract_results(log_path, ['n_interest'])\n",
    "results = extract_results(log_path, ['lr', 'l2_coef', 'fair_group_feature', 'fair_lambda', 'fair_noise_sigma', 'n_local_step'], \"f2rec_train_and_eval\")\n",
    "print(results.keys())"
   ]
  },
  {
   "cell_type": "code",
   "execution_count": 3,
   "id": "5b68ca8e",
   "metadata": {
    "scrolled": true
   },
   "outputs": [
    {
     "name": "stdout",
     "output_type": "stream",
     "text": [
      "Example:\n",
      "{\n",
      "    \"args\": \"cuda=3, seed=19, train=False, train_and_eval=True, continuous_train=False, eval=False, model_path='/home/sl1471/workspace/experiments/amz_Books/models/f2rec_FairMF_lr0.00003_reg1.0_pairwisebpr_lambda-0.1_gactivity.pkl', loss='pairwisebpr', l2_coef=1.0, emb_size=32, data_file='/home/sl1471/workspace/experiments/amz_Books/tsv_data/', n_worker=4, user_meta_data='/home/sl1471/workspace/experiments/amz_Books/meta_data/user.meta', item_meta_data='/home/sl1471/workspace/experiments/amz_Books/meta_data/item.meta', user_fields_meta_file='/home/sl1471/workspace/experiments/amz_Books/meta_data/user_fields.meta', item_fields_meta_file='/home/sl1471/workspace/experiments/amz_Books/meta_data/item_fields.meta', user_fields_vocab_file='/home/sl1471/workspace/experiments/amz_Books/meta_data/user_fields.vocab', item_fields_vocab_file='/home/sl1471/workspace/experiments/amz_Books/meta_data/item_fields.vocab', n_neg=1, n_neg_val=100, n_neg_test=-1, n_round=1, optimizer='Adam', epoch=30, check_epoch=1, lr=3e-05, batch_size=256, eval_batch_size=1, temper=6, with_val=True, val_sample_p=0.5, test_sample_p=1.0, stop_metric='_NDCG@50', pin_memory=False, at_k=[1, 5, 10, 20, 50], n_eval_process=1, fair_lambda=-0.1, fair_rho=1, fair_group_feature='activity',\",\n",
      "    \"model_name\": \"MF\",\n",
      "    \"lr\": 3e-05,\n",
      "    \"l2_coef\": 1.0,\n",
      "    \"fair_group_feature\": \"activity\",\n",
      "    \"fair_lambda\": -0.1,\n",
      "    \"fair_noise_sigma\": \"NaN\",\n",
      "    \"n_local_step\": \"NaN\",\n",
      "    \"HR@1\": [\n",
      "        0.007897153351698806\n",
      "    ],\n",
      "    \"P@1\": [\n",
      "        0.007897153351698806\n",
      "    ],\n",
      "    \"RECALL@1\": [\n",
      "        0.0005698840001288415\n",
      "    ],\n",
      "    \"F1@1\": [\n",
      "        0.0010515778627386873\n",
      "    ],\n",
      "    \"NDCG@1\": [\n",
      "        0.007897153351698806\n",
      "    ],\n",
      "    \"HR@5\": [\n",
      "        0.023875114784205693\n",
      "    ],\n",
      "    \"P@5\": [\n",
      "        0.0068686869354615855\n",
      "    ],\n",
      "    \"RECALL@5\": [\n",
      "        0.002220317054389402\n",
      "    ],\n",
      "    \"F1@5\": [\n",
      "        0.003230682317136733\n",
      "    ],\n",
      "    \"NDCG@5\": [\n",
      "        0.007041581233670889\n",
      "    ],\n",
      "    \"HR@10\": [\n",
      "        0.04370982552800735\n",
      "    ],\n",
      "    \"P@10\": [\n",
      "        0.006795225046828212\n",
      "    ],\n",
      "    \"RECALL@10\": [\n",
      "        0.004387802474074155\n",
      "    ],\n",
      "    \"F1@10\": [\n",
      "        0.005085526392739557\n",
      "    ],\n",
      "    \"NDCG@10\": [\n",
      "        0.00704428818764437\n",
      "    ],\n",
      "    \"HR@20\": [\n",
      "        0.08117539026629936\n",
      "    ],\n",
      "    \"P@20\": [\n",
      "        0.006703397665853561\n",
      "    ],\n",
      "    \"RECALL@20\": [\n",
      "        0.008804886218988233\n",
      "    ],\n",
      "    \"F1@20\": [\n",
      "        0.0072683295168331505\n",
      "    ],\n",
      "    \"NDCG@20\": [\n",
      "        0.008274719714297408\n",
      "    ],\n",
      "    \"HR@50\": [\n",
      "        0.1711662075298439\n",
      "    ],\n",
      "    \"P@50\": [\n",
      "        0.005494949403599493\n",
      "    ],\n",
      "    \"RECALL@50\": [\n",
      "        0.018880426319088543\n",
      "    ],\n",
      "    \"F1@50\": [\n",
      "        0.008163329872368561\n",
      "    ],\n",
      "    \"NDCG@50\": [\n",
      "        0.012740734525373816\n",
      "    ],\n",
      "    \"MR\": [\n",
      "        378.99959894578535\n",
      "    ],\n",
      "    \"MRR\": [\n",
      "        0.003014985336514816\n",
      "    ],\n",
      "    \"AUC\": [\n",
      "        0.7809611430327982\n",
      "    ]\n",
      "}\n"
     ]
    }
   ],
   "source": [
    "import json\n",
    "print(\"Example:\")\n",
    "print(json.dumps(list(results.values())[0], indent = 4))"
   ]
  },
  {
   "cell_type": "code",
   "execution_count": 4,
   "id": "05c435af",
   "metadata": {},
   "outputs": [],
   "source": [
    "import numpy as np\n",
    "metrics = []\n",
    "for m_name in ['HR', 'RECALL', 'P', 'F1', 'NDCG']:\n",
    "    metrics += [f\"{m_name}@{i}\" for i in [1,5,10,20,50]]\n",
    "metrics += [\"AUC\", \"MR\", \"MRR\"]\n",
    "for m_name in metrics:\n",
    "    for k, res_dict in results.items():\n",
    "        if m_name in res_dict:\n",
    "            res_dict[m_name] = np.mean(res_dict[m_name])"
   ]
  },
  {
   "cell_type": "code",
   "execution_count": 5,
   "id": "0a5f6b62",
   "metadata": {},
   "outputs": [],
   "source": [
    "import pandas as pd\n",
    "df = pd.DataFrame.from_dict(results, orient = 'index')"
   ]
  },
  {
   "cell_type": "code",
   "execution_count": 6,
   "id": "8651cb09",
   "metadata": {},
   "outputs": [
    {
     "name": "stdout",
     "output_type": "stream",
     "text": [
      "Dir exists: '/home/sl1471/workspace/experiments/amz_Books/results/'\n"
     ]
    }
   ],
   "source": [
    "import os\n",
    "import datetime\n",
    "try:\n",
    "    os.mkdir(target_path + \"results/\")\n",
    "except:\n",
    "    print(\"Dir exists: '\" + target_path + \"results/'\")\n",
    "result_file_path = target_path + \"results/\" + datetime.datetime.now().strftime('%Y%m%d_%H%M%S') + \".csv\"\n",
    "df.to_csv(result_file_path, sep = '\\t')"
   ]
  },
  {
   "cell_type": "code",
   "execution_count": null,
   "id": "4e4b7267",
   "metadata": {},
   "outputs": [],
   "source": []
  },
  {
   "cell_type": "code",
   "execution_count": null,
   "id": "22ce1d41",
   "metadata": {},
   "outputs": [],
   "source": []
  }
 ],
 "metadata": {
  "kernelspec": {
   "display_name": "EdgeCDR",
   "language": "python",
   "name": "edgecdr"
  },
  "language_info": {
   "codemirror_mode": {
    "name": "ipython",
    "version": 3
   },
   "file_extension": ".py",
   "mimetype": "text/x-python",
   "name": "python",
   "nbconvert_exporter": "python",
   "pygments_lexer": "ipython3",
   "version": "3.7.9"
  }
 },
 "nbformat": 4,
 "nbformat_minor": 5
}
