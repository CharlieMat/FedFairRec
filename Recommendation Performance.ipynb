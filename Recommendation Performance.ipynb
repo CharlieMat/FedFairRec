{
 "cells": [
  {
   "cell_type": "code",
   "execution_count": 1,
   "id": "100318bd",
   "metadata": {},
   "outputs": [],
   "source": [
    "import os,sys,inspect\n",
    "currentdir = os.path.dirname(os.path.abspath(inspect.getfile(inspect.currentframe())))\n",
    "parentdir = os.path.dirname(currentdir)\n",
    "sys.path.insert(0,parentdir) \n",
    "\n",
    "# data_key = 'ml-1m/'\n",
    "# data_key = 'amz_Books/'\n",
    "# data_key = 'amz_Electronics/'\n",
    "data_key = 'amz_Movies_and_TV/'\n",
    "# data_key = 'BX/'\n",
    "PROCESSED_DATA_ROOT = \"/home/sl1471/workspace/experiments/\"\n",
    "target_path = PROCESSED_DATA_ROOT + data_key"
   ]
  },
  {
   "cell_type": "markdown",
   "id": "4632fb77",
   "metadata": {},
   "source": [
    "### 1. Extract Results from Logs"
   ]
  },
  {
   "cell_type": "code",
   "execution_count": 2,
   "id": "b031c4d2",
   "metadata": {},
   "outputs": [
    {
     "name": "stderr",
     "output_type": "stream",
     "text": [
      "26it [00:00, 2151.35it/s]"
     ]
    },
    {
     "name": "stdout",
     "output_type": "stream",
     "text": [
      "dict_keys([0, 1, 2, 3, 4, 5, 7, 8, 9, 10, 11, 12, 13, 14, 16, 17, 18, 19, 20, 21, 22, 23, 25])\n"
     ]
    },
    {
     "name": "stderr",
     "output_type": "stream",
     "text": [
      "\n"
     ]
    }
   ],
   "source": [
    "from utils import extract_results\n",
    "log_path = target_path + \"logs/\"\n",
    "# results = extract_results(log_path, ['n_interest', 'threshold_c'])\n",
    "# results = extract_results(log_path, ['n_interest'])\n",
    "results = extract_results(log_path, ['lr', 'l2_coef', 'fair_group_feature', 'fair_lambda', 'n_local_step'], \"f2rec_train_and_eval\")\n",
    "print(results.keys())"
   ]
  },
  {
   "cell_type": "code",
   "execution_count": 3,
   "id": "5b68ca8e",
   "metadata": {
    "scrolled": true
   },
   "outputs": [
    {
     "name": "stdout",
     "output_type": "stream",
     "text": [
      "Example:\n",
      "{\n",
      "    \"args\": \"cuda=3, seed=9, train=False, train_and_eval=True, continuous_train=False, eval=False, model_path='/home/sl1471/workspace/experiments/amz_Movies_and_TV/models/f2rec_FairMF_lr0.00001_reg1.0_pairwisebpr_lambda0._gactivity.pkl', loss='pairwisebpr', l2_coef=1.0, emb_size=32, data_file='/home/sl1471/workspace/experiments/amz_Movies_and_TV/tsv_data/', n_worker=4, user_meta_data='/home/sl1471/workspace/experiments/amz_Movies_and_TV/meta_data/user.meta', item_meta_data='/home/sl1471/workspace/experiments/amz_Movies_and_TV/meta_data/item.meta', user_fields_meta_file='/home/sl1471/workspace/experiments/amz_Movies_and_TV/meta_data/user_fields.meta', item_fields_meta_file='/home/sl1471/workspace/experiments/amz_Movies_and_TV/meta_data/item_fields.meta', user_fields_vocab_file='/home/sl1471/workspace/experiments/amz_Movies_and_TV/meta_data/user_fields.vocab', item_fields_vocab_file='/home/sl1471/workspace/experiments/amz_Movies_and_TV/meta_data/item_fields.vocab', n_neg=1, n_neg_val=100, n_neg_test=-1, n_round=1, optimizer='Adam', epoch=30, check_epoch=1, lr=1e-05, batch_size=256, eval_batch_size=1, temper=6, with_val=True, val_sample_p=0.5, test_sample_p=1.0, stop_metric='_AUC', pin_memory=False, at_k=[1, 5, 10, 20, 50], n_eval_process=1, fair_lambda=0.0, fair_rho=1, fair_group_feature='activity',\",\n",
      "    \"model_name\": \"MF\",\n",
      "    \"lr\": 1e-05,\n",
      "    \"l2_coef\": 1.0,\n",
      "    \"fair_group_feature\": \"activity\",\n",
      "    \"fair_lambda\": 0.0,\n",
      "    \"n_local_step\": \"NaN\",\n",
      "    \"HR@1\": [\n",
      "        0.008933454876937101\n",
      "    ],\n",
      "    \"P@1\": [\n",
      "        0.008933454876937101\n",
      "    ],\n",
      "    \"RECALL@1\": [\n",
      "        0.0011517834397153412\n",
      "    ],\n",
      "    \"F1@1\": [\n",
      "        0.00195457936402957\n",
      "    ],\n",
      "    \"NDCG@1\": [\n",
      "        0.008933454876937101\n",
      "    ],\n",
      "    \"HR@5\": [\n",
      "        0.035916134913400184\n",
      "    ],\n",
      "    \"P@5\": [\n",
      "        0.00835004570871021\n",
      "    ],\n",
      "    \"RECALL@5\": [\n",
      "        0.005740135346616575\n",
      "    ],\n",
      "    \"F1@5\": [\n",
      "        0.0062070460930643235\n",
      "    ],\n",
      "    \"NDCG@5\": [\n",
      "        0.008793896496458932\n",
      "    ],\n",
      "    \"HR@10\": [\n",
      "        0.07547857793983592\n",
      "    ],\n",
      "    \"P@10\": [\n",
      "        0.009006381186986904\n",
      "    ],\n",
      "    \"RECALL@10\": [\n",
      "        0.012811801812476533\n",
      "    ],\n",
      "    \"F1@10\": [\n",
      "        0.009627897961705299\n",
      "    ],\n",
      "    \"NDCG@10\": [\n",
      "        0.011619401558106231\n",
      "    ],\n",
      "    \"HR@20\": [\n",
      "        0.12907930720145852\n",
      "    ],\n",
      "    \"P@20\": [\n",
      "        0.008805834242535811\n",
      "    ],\n",
      "    \"RECALL@20\": [\n",
      "        0.02541288891425161\n",
      "    ],\n",
      "    \"F1@20\": [\n",
      "        0.012050251381891145\n",
      "    ],\n",
      "    \"NDCG@20\": [\n",
      "        0.016696865114306143\n",
      "    ],\n",
      "    \"HR@50\": [\n",
      "        0.24667274384685506\n",
      "    ],\n",
      "    \"P@50\": [\n",
      "        0.007894256903892663\n",
      "    ],\n",
      "    \"RECALL@50\": [\n",
      "        0.05624611321972545\n",
      "    ],\n",
      "    \"F1@50\": [\n",
      "        0.013000127573140176\n",
      "    ],\n",
      "    \"NDCG@50\": [\n",
      "        0.027527349009437516\n",
      "    ],\n",
      "    \"MR\": [\n",
      "        530.8258109563899\n",
      "    ],\n",
      "    \"MRR\": [\n",
      "        0.006997296604821959\n",
      "    ],\n",
      "    \"AUC\": [\n",
      "        0.7714281931493995\n",
      "    ]\n",
      "}\n"
     ]
    }
   ],
   "source": [
    "import json\n",
    "print(\"Example:\")\n",
    "print(json.dumps(list(results.values())[0], indent = 4))"
   ]
  },
  {
   "cell_type": "code",
   "execution_count": 4,
   "id": "05c435af",
   "metadata": {},
   "outputs": [],
   "source": [
    "import numpy as np\n",
    "metrics = []\n",
    "for m_name in ['HR', 'RECALL', 'P', 'F1', 'NDCG']:\n",
    "    metrics += [f\"{m_name}@{i}\" for i in [1,5,10,20,50]]\n",
    "metrics += [\"AUC\", \"MR\", \"MRR\"]\n",
    "for m_name in metrics:\n",
    "    for k, res_dict in results.items():\n",
    "        if m_name in res_dict:\n",
    "            res_dict[m_name] = np.mean(res_dict[m_name])"
   ]
  },
  {
   "cell_type": "code",
   "execution_count": 5,
   "id": "0a5f6b62",
   "metadata": {},
   "outputs": [],
   "source": [
    "import pandas as pd\n",
    "df = pd.DataFrame.from_dict(results, orient = 'index')"
   ]
  },
  {
   "cell_type": "code",
   "execution_count": 6,
   "id": "8651cb09",
   "metadata": {},
   "outputs": [
    {
     "name": "stdout",
     "output_type": "stream",
     "text": [
      "Dir exists: '/home/sl1471/workspace/experiments/amz_Movies_and_TV/results/'\n"
     ]
    }
   ],
   "source": [
    "import os\n",
    "import datetime\n",
    "try:\n",
    "    os.mkdir(target_path + \"results/\")\n",
    "except:\n",
    "    print(\"Dir exists: '\" + target_path + \"results/'\")\n",
    "result_file_path = target_path + \"results/\" + datetime.datetime.now().strftime('%Y%m%d_%H%M%S') + \".csv\"\n",
    "df.to_csv(result_file_path, sep = '\\t')"
   ]
  },
  {
   "cell_type": "code",
   "execution_count": null,
   "id": "4e4b7267",
   "metadata": {},
   "outputs": [],
   "source": []
  },
  {
   "cell_type": "code",
   "execution_count": null,
   "id": "22ce1d41",
   "metadata": {},
   "outputs": [],
   "source": []
  }
 ],
 "metadata": {
  "kernelspec": {
   "display_name": "EdgeCDR",
   "language": "python",
   "name": "edgecdr"
  },
  "language_info": {
   "codemirror_mode": {
    "name": "ipython",
    "version": 3
   },
   "file_extension": ".py",
   "mimetype": "text/x-python",
   "name": "python",
   "nbconvert_exporter": "python",
   "pygments_lexer": "ipython3",
   "version": "3.7.9"
  }
 },
 "nbformat": 4,
 "nbformat_minor": 5
}
