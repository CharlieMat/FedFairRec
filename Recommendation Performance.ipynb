{
 "cells": [
  {
   "cell_type": "code",
   "execution_count": 1,
   "id": "100318bd",
   "metadata": {},
   "outputs": [],
   "source": [
    "import os,sys,inspect\n",
    "currentdir = os.path.dirname(os.path.abspath(inspect.getfile(inspect.currentframe())))\n",
    "parentdir = os.path.dirname(currentdir)\n",
    "sys.path.insert(0,parentdir) \n",
    "\n",
    "data_key = 'ml-1m/'\n",
    "# data_key = 'amz_Books/'\n",
    "# data_key = 'amz_Movies_and_TV/'\n",
    "PROCESSED_DATA_ROOT = \"/home/sl1471/workspace/experiments/\"\n",
    "target_path = PROCESSED_DATA_ROOT + data_key"
   ]
  },
  {
   "cell_type": "markdown",
   "id": "4632fb77",
   "metadata": {},
   "source": [
    "### 1. Extract Results from Logs"
   ]
  },
  {
   "cell_type": "code",
   "execution_count": 2,
   "id": "b031c4d2",
   "metadata": {},
   "outputs": [
    {
     "name": "stderr",
     "output_type": "stream",
     "text": [
      "66it [00:00, 1404.53it/s]"
     ]
    },
    {
     "name": "stdout",
     "output_type": "stream",
     "text": [
      "dict_keys([5, 7, 15, 18, 20, 22, 28, 29, 30, 31, 32, 34, 38, 39, 40, 44, 45, 46, 47, 48, 50, 55, 62, 65])\n"
     ]
    },
    {
     "name": "stderr",
     "output_type": "stream",
     "text": [
      "\n"
     ]
    }
   ],
   "source": [
    "from utils import extract_results\n",
    "log_path = target_path + \"logs/\"\n",
    "# results = extract_results(log_path, ['n_interest', 'threshold_c'])\n",
    "# results = extract_results(log_path, ['n_interest'])\n",
    "results = extract_results(log_path, ['lr', 'l2_coef', 'fair_group_feature', 'fair_lambda', 'fair_noise_sigma', 'n_local_step'], \"f2rec_train_and_eval\")\n",
    "print(results.keys())"
   ]
  },
  {
   "cell_type": "code",
   "execution_count": 3,
   "id": "5b68ca8e",
   "metadata": {
    "scrolled": true
   },
   "outputs": [
    {
     "name": "stdout",
     "output_type": "stream",
     "text": [
      "Example:\n",
      "{\n",
      "    \"args\": \"cuda=1, seed=19, train=False, train_and_eval=True, continuous_train=False, eval=False, model_path='/home/sl1471/workspace/experiments/ml-1m/models/f2rec_FedMF_lr0.01_reg0.1_pairwisebpr_local1_fedavg.pkl', loss='pairwisebpr', l2_coef=0.1, emb_size=32, device_dropout_p=0.1, device_dropout_type='same', n_local_step=1, random_local_step=False, aggregation_func='fedavg', mitigation_trade_off=1.0, elastic_mu=0.01, data_file='/home/sl1471/workspace/experiments/ml-1m/tsv_data/', n_worker=4, user_meta_data='/home/sl1471/workspace/experiments/ml-1m/meta_data/user.meta', item_meta_data='/home/sl1471/workspace/experiments/ml-1m/meta_data/item.meta', user_fields_meta_file='/home/sl1471/workspace/experiments/ml-1m/meta_data/user_fields.meta', item_fields_meta_file='/home/sl1471/workspace/experiments/ml-1m/meta_data/item_fields.meta', user_fields_vocab_file='/home/sl1471/workspace/experiments/ml-1m/meta_data/user_fields.vocab', item_fields_vocab_file='/home/sl1471/workspace/experiments/ml-1m/meta_data/item_fields.vocab', n_neg=1, n_neg_val=100, n_neg_test=-1, n_round=1, optimizer='SGD', epoch=40, check_epoch=1, lr=0.01, batch_size=256, eval_batch_size=1, temper=6, with_val=True, val_sample_p=0.5, test_sample_p=1.0, stop_metric='_AUC', pin_memory=False, at_k=[1, 5, 10, 20, 50], n_eval_process=1,\",\n",
      "    \"model_name\": \"FedMF\",\n",
      "    \"lr\": 0.01,\n",
      "    \"l2_coef\": 0.1,\n",
      "    \"fair_group_feature\": \"NaN\",\n",
      "    \"fair_lambda\": \"NaN\",\n",
      "    \"fair_noise_sigma\": \"NaN\",\n",
      "    \"n_local_step\": 1,\n",
      "    \"HR@1\": [\n",
      "        0.06891398206575888\n",
      "    ],\n",
      "    \"P@1\": [\n",
      "        0.06891398206575888\n",
      "    ],\n",
      "    \"RECALL@1\": [\n",
      "        0.005456171623545281\n",
      "    ],\n",
      "    \"F1@1\": [\n",
      "        0.009257984132054675\n",
      "    ],\n",
      "    \"NDCG@1\": [\n",
      "        0.06891398206575888\n",
      "    ],\n",
      "    \"HR@5\": [\n",
      "        0.19926934573231483\n",
      "    ],\n",
      "    \"P@5\": [\n",
      "        0.05695782232644826\n",
      "    ],\n",
      "    \"RECALL@5\": [\n",
      "        0.02115481578477707\n",
      "    ],\n",
      "    \"F1@5\": [\n",
      "        0.024776437026128414\n",
      "    ],\n",
      "    \"NDCG@5\": [\n",
      "        0.061578752978403914\n",
      "    ],\n",
      "    \"HR@10\": [\n",
      "        0.287944204583195\n",
      "    ],\n",
      "    \"P@10\": [\n",
      "        0.050896713002274024\n",
      "    ],\n",
      "    \"RECALL@10\": [\n",
      "        0.03646679623143723\n",
      "    ],\n",
      "    \"F1@10\": [\n",
      "        0.03328273598242666\n",
      "    ],\n",
      "    \"NDCG@10\": [\n",
      "        0.0607374315306282\n",
      "    ],\n",
      "    \"HR@20\": [\n",
      "        0.4252739953503819\n",
      "    ],\n",
      "    \"P@20\": [\n",
      "        0.046097642760346474\n",
      "    ],\n",
      "    \"RECALL@20\": [\n",
      "        0.06855644412386366\n",
      "    ],\n",
      "    \"F1@20\": [\n",
      "        0.043120731961517805\n",
      "    ],\n",
      "    \"NDCG@20\": [\n",
      "        0.06733508102907587\n",
      "    ],\n",
      "    \"HR@50\": [\n",
      "        0.5971438060445035\n",
      "    ],\n",
      "    \"P@50\": [\n",
      "        0.03699435363825236\n",
      "    ],\n",
      "    \"RECALL@50\": [\n",
      "        0.14094755516042026\n",
      "    ],\n",
      "    \"F1@50\": [\n",
      "        0.04837967536641995\n",
      "    ],\n",
      "    \"NDCG@50\": [\n",
      "        0.08836431781384303\n",
      "    ],\n",
      "    \"MR\": [\n",
      "        101.52936977233178\n",
      "    ],\n",
      "    \"MRR\": [\n",
      "        0.020220992694760544\n",
      "    ],\n",
      "    \"AUC\": [\n",
      "        0.7662866476665425\n",
      "    ]\n",
      "}\n"
     ]
    }
   ],
   "source": [
    "import json\n",
    "print(\"Example:\")\n",
    "print(json.dumps(list(results.values())[0], indent = 4))"
   ]
  },
  {
   "cell_type": "code",
   "execution_count": 4,
   "id": "05c435af",
   "metadata": {},
   "outputs": [],
   "source": [
    "import numpy as np\n",
    "metrics = []\n",
    "for m_name in ['HR', 'RECALL', 'P', 'F1', 'NDCG']:\n",
    "    metrics += [f\"{m_name}@{i}\" for i in [1,5,10,20,50]]\n",
    "metrics += [\"AUC\", \"MR\", \"MRR\"]\n",
    "for m_name in metrics:\n",
    "    for k, res_dict in results.items():\n",
    "        if m_name in res_dict:\n",
    "            res_dict[m_name] = np.mean(res_dict[m_name])"
   ]
  },
  {
   "cell_type": "code",
   "execution_count": 5,
   "id": "0a5f6b62",
   "metadata": {},
   "outputs": [],
   "source": [
    "import pandas as pd\n",
    "df = pd.DataFrame.from_dict(results, orient = 'index')"
   ]
  },
  {
   "cell_type": "code",
   "execution_count": 6,
   "id": "8651cb09",
   "metadata": {},
   "outputs": [
    {
     "name": "stdout",
     "output_type": "stream",
     "text": [
      "Dir exists: '/home/sl1471/workspace/experiments/ml-1m/results/'\n"
     ]
    }
   ],
   "source": [
    "import os\n",
    "import datetime\n",
    "try:\n",
    "    os.mkdir(target_path + \"results/\")\n",
    "except:\n",
    "    print(\"Dir exists: '\" + target_path + \"results/'\")\n",
    "result_file_path = target_path + \"results/\" + datetime.datetime.now().strftime('%Y%m%d_%H%M%S') + \".csv\"\n",
    "df.to_csv(result_file_path, sep = '\\t')"
   ]
  },
  {
   "cell_type": "code",
   "execution_count": null,
   "id": "4e4b7267",
   "metadata": {},
   "outputs": [],
   "source": []
  },
  {
   "cell_type": "code",
   "execution_count": null,
   "id": "22ce1d41",
   "metadata": {},
   "outputs": [],
   "source": []
  }
 ],
 "metadata": {
  "kernelspec": {
   "display_name": "EdgeCDR",
   "language": "python",
   "name": "edgecdr"
  },
  "language_info": {
   "codemirror_mode": {
    "name": "ipython",
    "version": 3
   },
   "file_extension": ".py",
   "mimetype": "text/x-python",
   "name": "python",
   "nbconvert_exporter": "python",
   "pygments_lexer": "ipython3",
   "version": "3.7.9"
  }
 },
 "nbformat": 4,
 "nbformat_minor": 5
}
