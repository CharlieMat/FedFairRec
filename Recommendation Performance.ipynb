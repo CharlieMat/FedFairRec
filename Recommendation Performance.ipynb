{
 "cells": [
  {
   "cell_type": "code",
   "execution_count": 1,
   "id": "100318bd",
   "metadata": {},
   "outputs": [],
   "source": [
    "import os,sys,inspect\n",
    "currentdir = os.path.dirname(os.path.abspath(inspect.getfile(inspect.currentframe())))\n",
    "parentdir = os.path.dirname(currentdir)\n",
    "sys.path.insert(0,parentdir) \n",
    "\n",
    "# data_key = 'ml-1m/'\n",
    "data_key = 'amz_Books/'\n",
    "# data_key = 'amz_Movies_and_TV/'\n",
    "PROCESSED_DATA_ROOT = \"/home/sl1471/workspace/experiments/\"\n",
    "target_path = PROCESSED_DATA_ROOT + data_key"
   ]
  },
  {
   "cell_type": "markdown",
   "id": "4632fb77",
   "metadata": {},
   "source": [
    "### 1. Extract Results from Logs"
   ]
  },
  {
   "cell_type": "code",
   "execution_count": 2,
   "id": "b031c4d2",
   "metadata": {},
   "outputs": [
    {
     "name": "stderr",
     "output_type": "stream",
     "text": [
      "17it [00:01, 15.03it/s]"
     ]
    },
    {
     "name": "stdout",
     "output_type": "stream",
     "text": [
      "dict_keys([1, 2, 3, 4, 5, 6, 7, 8, 9, 10, 11, 12, 13, 14, 16])\n"
     ]
    },
    {
     "name": "stderr",
     "output_type": "stream",
     "text": [
      "\n"
     ]
    }
   ],
   "source": [
    "from utils import extract_results\n",
    "log_path = target_path + \"logs/\"\n",
    "# results = extract_results(log_path, ['n_interest', 'threshold_c'])\n",
    "# results = extract_results(log_path, ['n_interest'])\n",
    "results = extract_results(log_path, ['lr', 'l2_coef', 'fair_group_feature', 'fair_lambda', 'fair_noise_sigma', 'n_local_step'], \"f2rec_train_and_eval\")\n",
    "print(results.keys())"
   ]
  },
  {
   "cell_type": "code",
   "execution_count": 3,
   "id": "5b68ca8e",
   "metadata": {
    "scrolled": true
   },
   "outputs": [
    {
     "name": "stdout",
     "output_type": "stream",
     "text": [
      "Example:\n",
      "{\n",
      "    \"args\": \"cuda=3, seed=19, train=False, train_and_eval=True, continuous_train=False, eval=False, model_path='/home/sl1471/workspace/experiments/amz_Books/models/f2rec_MF_lr0.00003_reg0.1_pairwisebpr.pkl', loss='pairwisebpr', l2_coef=0.1, emb_size=32, data_file='/home/sl1471/workspace/experiments/amz_Books/tsv_data/', n_worker=8, user_meta_data='/home/sl1471/workspace/experiments/amz_Books/meta_data/user.meta', item_meta_data='/home/sl1471/workspace/experiments/amz_Books/meta_data/item.meta', user_fields_meta_file='/home/sl1471/workspace/experiments/amz_Books/meta_data/user_fields.meta', item_fields_meta_file='/home/sl1471/workspace/experiments/amz_Books/meta_data/item_fields.meta', user_fields_vocab_file='/home/sl1471/workspace/experiments/amz_Books/meta_data/user_fields.vocab', item_fields_vocab_file='/home/sl1471/workspace/experiments/amz_Books/meta_data/item_fields.vocab', n_neg=1, n_neg_val=100, n_neg_test=-1, n_round=3, optimizer='Adam', epoch=30, check_epoch=1, lr=3e-05, batch_size=1024, eval_batch_size=1, temper=6, with_val=True, val_sample_p=0.5, test_sample_p=1.0, stop_metric='_AUC', pin_memory=False, at_k=[1, 5, 10, 20, 50], n_eval_process=1,\",\n",
      "    \"model_name\": \"MF\",\n",
      "    \"lr\": 3e-05,\n",
      "    \"l2_coef\": 0.1,\n",
      "    \"fair_group_feature\": \"NaN\",\n",
      "    \"fair_lambda\": \"NaN\",\n",
      "    \"fair_noise_sigma\": \"NaN\",\n",
      "    \"n_local_step\": \"NaN\",\n",
      "    \"HR@1\": [\n",
      "        0.009917355371900827,\n",
      "        0.011019283746556474,\n",
      "        0.011202938475665749\n",
      "    ],\n",
      "    \"P@1\": [\n",
      "        0.009917355371900827,\n",
      "        0.011019283746556474,\n",
      "        0.011202938475665749\n",
      "    ],\n",
      "    \"RECALL@1\": [\n",
      "        0.0006515242734922249,\n",
      "        0.0006776764620304162,\n",
      "        0.0007885287177156319\n",
      "    ],\n",
      "    \"F1@1\": [\n",
      "        0.0012078978571120592,\n",
      "        0.0012600643454244423,\n",
      "        0.0014553189354617733\n",
      "    ],\n",
      "    \"NDCG@1\": [\n",
      "        0.009917355371900827,\n",
      "        0.011019283746556474,\n",
      "        0.011202938475665749\n",
      "    ],\n",
      "    \"HR@5\": [\n",
      "        0.03269054178145087,\n",
      "        0.030670339761248853,\n",
      "        0.03213957759412305\n",
      "    ],\n",
      "    \"P@5\": [\n",
      "        0.010174472086795215,\n",
      "        0.009843893572209186,\n",
      "        0.01024793398500693\n",
      "    ],\n",
      "    \"RECALL@5\": [\n",
      "        0.00333552310419422,\n",
      "        0.003101468084532258,\n",
      "        0.00339600325137021\n",
      "    ],\n",
      "    \"F1@5\": [\n",
      "        0.004845638254347802,\n",
      "        0.004538959637284279,\n",
      "        0.004917313308344728\n",
      "    ],\n",
      "    \"NDCG@5\": [\n",
      "        0.010094286872226235,\n",
      "        0.009991411280478766,\n",
      "        0.010388992112420697\n",
      "    ],\n",
      "    \"HR@10\": [\n",
      "        0.05454545454545454,\n",
      "        0.05307621671258035,\n",
      "        0.051423324150596875\n",
      "    ],\n",
      "    \"P@10\": [\n",
      "        0.009568411475808605,\n",
      "        0.009568411475808605,\n",
      "        0.009403122213042254\n",
      "    ],\n",
      "    \"RECALL@10\": [\n",
      "        0.006281342796974493,\n",
      "        0.005951724217176656,\n",
      "        0.00614405598686418\n",
      "    ],\n",
      "    \"F1@10\": [\n",
      "        0.007213791753819658,\n",
      "        0.0069924695470307925,\n",
      "        0.007089661373059831\n",
      "    ],\n",
      "    \"NDCG@10\": [\n",
      "        0.009862222936418322,\n",
      "        0.009895213227462505,\n",
      "        0.009900020139550155\n",
      "    ],\n",
      "    \"HR@20\": [\n",
      "        0.09439853076216713,\n",
      "        0.09752066115702479,\n",
      "        0.09311294765840221\n",
      "    ],\n",
      "    \"P@20\": [\n",
      "        0.009035812740456194,\n",
      "        0.0091184573691027,\n",
      "        0.008778696106293532\n",
      "    ],\n",
      "    \"RECALL@20\": [\n",
      "        0.012022148707284634,\n",
      "        0.011682690272263369,\n",
      "        0.011435968339908441\n",
      "    ],\n",
      "    \"F1@20\": [\n",
      "        0.009782374710104572,\n",
      "        0.00971570859386956,\n",
      "        0.009435556439684552\n",
      "    ],\n",
      "    \"NDCG@20\": [\n",
      "        0.011378302832909743,\n",
      "        0.011250884315089636,\n",
      "        0.011184189877070014\n",
      "    ],\n",
      "    \"HR@50\": [\n",
      "        0.18861340679522498,\n",
      "        0.19522497704315886,\n",
      "        0.18824609733700642\n",
      "    ],\n",
      "    \"P@50\": [\n",
      "        0.006659320381335757,\n",
      "        0.006868686768524794,\n",
      "        0.006560146822307611\n",
      "    ],\n",
      "    \"RECALL@50\": [\n",
      "        0.023112624500689155,\n",
      "        0.023341669320300754,\n",
      "        0.022638607714787002\n",
      "    ],\n",
      "    \"F1@50\": [\n",
      "        0.009828569556700186,\n",
      "        0.010095724388888607,\n",
      "        0.009694858302795855\n",
      "    ],\n",
      "    \"NDCG@50\": [\n",
      "        0.016131714327625172,\n",
      "        0.016236551268294767,\n",
      "        0.016008553965080486\n",
      "    ],\n",
      "    \"MR\": [\n",
      "        429.56158964620806,\n",
      "        410.57043932719006,\n",
      "        407.82066659443524\n",
      "    ],\n",
      "    \"MRR\": [\n",
      "        0.0036036956820328205,\n",
      "        0.003610985079812612,\n",
      "        0.0036912252643121887\n",
      "    ],\n",
      "    \"AUC\": [\n",
      "        0.7536537097797158,\n",
      "        0.7651496975890362,\n",
      "        0.7650809780395662\n",
      "    ]\n",
      "}\n"
     ]
    }
   ],
   "source": [
    "import json\n",
    "print(\"Example:\")\n",
    "print(json.dumps(list(results.values())[0], indent = 4))"
   ]
  },
  {
   "cell_type": "code",
   "execution_count": 4,
   "id": "05c435af",
   "metadata": {},
   "outputs": [],
   "source": [
    "import numpy as np\n",
    "metrics = []\n",
    "for m_name in ['HR', 'RECALL', 'P', 'F1', 'NDCG']:\n",
    "    metrics += [f\"{m_name}@{i}\" for i in [1,5,10,20,50]]\n",
    "metrics += [\"AUC\", \"MR\", \"MRR\"]\n",
    "for m_name in metrics:\n",
    "    for k, res_dict in results.items():\n",
    "        if m_name in res_dict:\n",
    "            res_dict[m_name] = np.mean(res_dict[m_name])"
   ]
  },
  {
   "cell_type": "code",
   "execution_count": 5,
   "id": "0a5f6b62",
   "metadata": {},
   "outputs": [],
   "source": [
    "import pandas as pd\n",
    "df = pd.DataFrame.from_dict(results, orient = 'index')"
   ]
  },
  {
   "cell_type": "code",
   "execution_count": 6,
   "id": "8651cb09",
   "metadata": {},
   "outputs": [
    {
     "name": "stdout",
     "output_type": "stream",
     "text": [
      "Dir exists: '/home/sl1471/workspace/experiments/amz_Books/results/'\n"
     ]
    }
   ],
   "source": [
    "import os\n",
    "import datetime\n",
    "try:\n",
    "    os.mkdir(target_path + \"results/\")\n",
    "except:\n",
    "    print(\"Dir exists: '\" + target_path + \"results/'\")\n",
    "result_file_path = target_path + \"results/\" + datetime.datetime.now().strftime('%Y%m%d_%H%M%S') + \".csv\"\n",
    "df.to_csv(result_file_path, sep = '\\t')"
   ]
  },
  {
   "cell_type": "code",
   "execution_count": null,
   "id": "4e4b7267",
   "metadata": {},
   "outputs": [],
   "source": []
  },
  {
   "cell_type": "code",
   "execution_count": null,
   "id": "22ce1d41",
   "metadata": {},
   "outputs": [],
   "source": []
  }
 ],
 "metadata": {
  "kernelspec": {
   "display_name": "EdgeCDR",
   "language": "python",
   "name": "edgecdr"
  },
  "language_info": {
   "codemirror_mode": {
    "name": "ipython",
    "version": 3
   },
   "file_extension": ".py",
   "mimetype": "text/x-python",
   "name": "python",
   "nbconvert_exporter": "python",
   "pygments_lexer": "ipython3",
   "version": "3.7.9"
  }
 },
 "nbformat": 4,
 "nbformat_minor": 5
}
