{
 "cells": [
  {
   "cell_type": "markdown",
   "metadata": {},
   "source": [
    "## Data Reader"
   ]
  },
  {
   "cell_type": "code",
   "execution_count": 66,
   "metadata": {},
   "outputs": [],
   "source": [
    "# data_key = \"ml-1m\"\n",
    "# data_key = 'BX'\n",
    "# data_key = 'amz_Books'\n",
    "data_key = 'amz_Movies_and_TV'\n",
    "ROOT=\"/home/sl1471/workspace/experiments/\" + data_key\n",
    "setting = {'lr': '0.0001', \n",
    "           'l2_coef': '1.0', \n",
    "           'loss': 'pairwisebpr', \n",
    "           'fair_lambda': '0.', \n",
    "           'group_feature': 'activity'}\n",
    "modelName = 'MF'"
   ]
  },
  {
   "cell_type": "code",
   "execution_count": 67,
   "metadata": {},
   "outputs": [
    {
     "name": "stdout",
     "output_type": "stream",
     "text": [
      "Namespace(cuda=3, seed=19, train=False, train_and_eval=True, continuous_train=False, eval=False, model_path='/home/sl1471/workspace/experiments/amz_Movies_and_TV/models/f2rec_MF_lr0.0001_reg1.0_pairwisebpr.pkl', loss='pairwisebpr', l2_coef=1.0, emb_size=32, data_file='/home/sl1471/workspace/experiments/amz_Movies_and_TV/tsv_data/', n_worker=4, user_meta_data='/home/sl1471/workspace/experiments/amz_Movies_and_TV/meta_data/user.meta', item_meta_data='/home/sl1471/workspace/experiments/amz_Movies_and_TV/meta_data/item.meta', user_fields_meta_file='/home/sl1471/workspace/experiments/amz_Movies_and_TV/meta_data/user_fields.meta', item_fields_meta_file='/home/sl1471/workspace/experiments/amz_Movies_and_TV/meta_data/item_fields.meta', user_fields_vocab_file='/home/sl1471/workspace/experiments/amz_Movies_and_TV/meta_data/user_fields.vocab', item_fields_vocab_file='/home/sl1471/workspace/experiments/amz_Movies_and_TV/meta_data/item_fields.vocab', n_neg=1, n_neg_val=100, n_neg_test=-1, n_round=3, optimizer='Adam', epoch=30, check_epoch=1, lr=0.0001, batch_size=1024, eval_batch_size=1, temper=6, with_val=True, val_sample_p=1.0, test_sample_p=1.0, stop_metric='_AUC', pin_memory=False, at_k=[1, 5, 10, 20, 50], n_eval_process=1)\n"
     ]
    }
   ],
   "source": [
    "import os,sys,inspect\n",
    "currentdir = os.path.dirname(os.path.abspath(inspect.getfile(inspect.currentframe())))\n",
    "parentdir = os.path.dirname(currentdir)\n",
    "sys.path.insert(0,parentdir)\n",
    "\n",
    "import argparse\n",
    "from argparse import Namespace\n",
    "\n",
    "log_path = ROOT + f\"/logs/f2rec_train_and_eval_{modelName}_lr{setting['lr']}_reg{setting['l2_coef']}_loss{setting['loss']}.log\"\n",
    "# log_path = ROOT + f\"/logs/f2rec_train_and_eval_{modelName}_lr{setting['lr']}_reg{setting['l2_coef']}_loss{setting['loss']}_lambda{setting['fair_lambda']}_g{setting['group_feature']}.log\"\n",
    "\n",
    "def read_line_number(file_path, line_num):\n",
    "    with open(file_path, 'r') as fin:\n",
    "        for i,line in enumerate(fin):\n",
    "            if i == line_num:\n",
    "                return line.strip()\n",
    "    return \"\"\n",
    "args = eval(read_line_number(log_path, 1))\n",
    "print(args)"
   ]
  },
  {
   "cell_type": "code",
   "execution_count": 68,
   "metadata": {},
   "outputs": [
    {
     "name": "stdout",
     "output_type": "stream",
     "text": [
      "Loading train data file. Done.\n",
      "Loading val data file. Done.\n",
      "Loading test data file. Done.\n",
      "           UserID      ItemID  Response   Timestamp\n",
      "0  A100WO06OQR8BQ  B005NKIPWC       3.0  1382140800\n",
      "1  A100WO06OQR8BQ  079284209X       1.0  1383436800\n",
      "2  A100WO06OQR8BQ  B00151QYE4       1.0  1384905600\n",
      "3  A100WO06OQR8BQ  B00151QYE4       1.0  1384905600\n",
      "4  A100WO06OQR8BQ  B00EK6RM92       5.0  1386460800\n",
      "Load field meta and vocab file.\n",
      "Load vocab from : /home/sl1471/workspace/experiments/amz_Movies_and_TV/meta_data/user_fields.vocab\n",
      "User fields: ['UserID']\n",
      "Load vocab from : /home/sl1471/workspace/experiments/amz_Movies_and_TV/meta_data/item_fields.vocab\n",
      "Item fields: ['ItemID', 'Category', 'MinPrice', 'MaxPrice', 'Brand']\n",
      "Appending history info\n",
      "Buffer negative training and validation samples\n"
     ]
    },
    {
     "name": "stderr",
     "output_type": "stream",
     "text": [
      "100%|██████████| 5498/5498 [00:38<00:00, 142.73it/s]\n"
     ]
    }
   ],
   "source": [
    "# from reader.FedRecReader import FedRecReader\n",
    "# reader = FedRecReader(args)\n",
    "from reader.RecDataReader import RecDataReader\n",
    "reader = RecDataReader(args)"
   ]
  },
  {
   "cell_type": "code",
   "execution_count": 69,
   "metadata": {
    "scrolled": true
   },
   "outputs": [
    {
     "name": "stdout",
     "output_type": "stream",
     "text": [
      "user activity: 1335(A) -- 4163(I), threshold (71.07984721716988)\n"
     ]
    }
   ],
   "source": [
    "from model.fair_rec.FairUserGroupPerformance import get_user_group_info\n",
    "\n",
    "# group_feature = 'AgeGroup'\n",
    "group_feature = 'activity'\n",
    "group_dict, feature_values = get_user_group_info(reader, group_feature)"
   ]
  },
  {
   "cell_type": "markdown",
   "metadata": {},
   "source": [
    "## Model"
   ]
  },
  {
   "cell_type": "code",
   "execution_count": 70,
   "metadata": {},
   "outputs": [
    {
     "name": "stdout",
     "output_type": "stream",
     "text": [
      "embedding: tensor([[ 0.0075, -0.0186,  0.0074,  ..., -0.0086,  0.0037, -0.0109],\n",
      "        [ 0.0399,  0.0145,  0.0014,  ...,  0.0291,  0.0461,  0.0122],\n",
      "        [-0.0013,  0.0123,  0.0115,  ...,  0.0168,  0.0106,  0.0246],\n",
      "        ...,\n",
      "        [-0.0040, -0.0034, -0.0375,  ...,  0.0138, -0.0121,  0.0093],\n",
      "        [ 0.0149,  0.0091, -0.0289,  ...,  0.0067,  0.0245, -0.0017],\n",
      "        [ 0.0038, -0.0336,  0.0039,  ...,  0.0125,  0.0003,  0.0053]])\n",
      "embedding: tensor([[ 1.1879e-02, -6.1574e-03,  1.7802e-02,  ...,  8.4220e-03,\n",
      "         -2.1570e-02, -1.0707e-02],\n",
      "        [ 3.2153e-05, -6.5763e-03, -1.1361e-02,  ..., -1.0487e-02,\n",
      "          1.3460e-02,  1.0134e-02],\n",
      "        [-1.3595e-02, -1.2958e-02,  1.4641e-02,  ...,  1.1063e-03,\n",
      "          1.6642e-02, -1.4230e-02],\n",
      "        ...,\n",
      "        [ 1.8782e-02, -7.6507e-03,  3.7189e-03,  ...,  9.4808e-03,\n",
      "         -7.3105e-03,  2.5148e-03],\n",
      "        [-1.4458e-02, -4.5704e-03, -1.1682e-03,  ..., -8.6887e-03,\n",
      "         -6.8288e-04,  1.2711e-02],\n",
      "        [-1.3143e-03,  2.5154e-02,  1.1120e-02,  ..., -2.2492e-02,\n",
      "         -4.1108e-03,  1.6126e-03]])\n",
      "Load (checkpoint) from /home/sl1471/workspace/experiments/amz_Movies_and_TV/models/f2rec_MF_lr0.0001_reg1.0_pairwisebpr.pkl\n"
     ]
    }
   ],
   "source": [
    "from model.baselines import *\n",
    "from model.fed_rec import *\n",
    "\n",
    "device = 'cpu'\n",
    "modelClass = eval('{0}.{0}'.format(modelName))\n",
    "model = modelClass(args, reader, device)\n",
    "model.load_from_checkpoint(args.model_path, with_optimizer = False)\n",
    "model = model.to(device)\n",
    "model.device = device"
   ]
  },
  {
   "cell_type": "markdown",
   "metadata": {},
   "source": [
    "## Evaluate"
   ]
  },
  {
   "cell_type": "code",
   "execution_count": 71,
   "metadata": {},
   "outputs": [],
   "source": [
    "method = 'original' #'diff'\n",
    "selected_metric = 'AUC'\n",
    "at_k_list = [10,50]\n",
    "group_name = f\"user_group_{group_feature}\"\n",
    "eval_sample_p = 1.0\n",
    "fair_rho = 1\n",
    "fair_lambda = 1"
   ]
  },
  {
   "cell_type": "code",
   "execution_count": 72,
   "metadata": {},
   "outputs": [
    {
     "name": "stdout",
     "output_type": "stream",
     "text": [
      "Fairness evaluation (G - activity):\n",
      "\tGroup feature:dict_keys(['user_group_activity'])\n"
     ]
    },
    {
     "name": "stderr",
     "output_type": "stream",
     "text": [
      "100%|██████████| 5497/5497 [24:00<00:00,  3.82it/s]\n",
      "100%|██████████| 5497/5497 [24:01<00:00,  3.81it/s]\n",
      "100%|██████████| 5497/5497 [24:01<00:00,  3.81it/s]\n",
      "100%|██████████| 5497/5497 [24:01<00:00,  3.81it/s]\n"
     ]
    },
    {
     "name": "stdout",
     "output_type": "stream",
     "text": [
      "{'active': {'HR@10': (112.0, 1332), 'P@10': (13.600000239908695, 1332), 'RECALL@10': (7.981332081370056, 1332), 'F1@10': (9.246577061712742, 1332), 'NDCG@10': (13.443494573235512, 1332), 'HR@50': (421.0, 1332), 'P@50': (13.959999736398458, 1332), 'RECALL@50': (43.26724839396775, 1332), 'F1@50': (19.509482909925282, 1332), 'NDCG@50': (27.924035939387977, 1332), 'MR': (327911.9714794159, 1332), 'MRR': (5.548996546087437, 1332), 'AUC': (1002.8480965306086, 1332)}, 'inactive': {'HR@10': (147.0, 4153), 'P@10': (16.100000239908695, 4153), 'RECALL@10': (31.05833376944065, 4153), 'F1@10': (20.944118283689022, 4153), 'NDCG@10': (21.921495035290718, 4153), 'HR@50': (715.0, 4153), 'P@50': (18.77999958768487, 4153), 'RECALL@50': (183.43690702319145, 4153), 'F1@50': (33.899359449744225, 4153), 'NDCG@50': (76.35584318265319, 4153), 'MR': (2804938.9394540787, 4153), 'MRR': (20.095075670273218, 4153), 'AUC': (3149.3219165007085, 4153)}}\n"
     ]
    }
   ],
   "source": [
    "from torch.utils.data import DataLoader\n",
    "import torch\n",
    "import numpy as np\n",
    "\n",
    "from reader.BaseReader import worker_init_func\n",
    "from task.TopK import calculate_ranking_metric\n",
    "\n",
    "print(f\"Fairness evaluation (G - {group_feature}):\")\n",
    "reader.set_phase(\"test\")\n",
    "eval_data = reader.get_eval_dataset()\n",
    "eval_loader = DataLoader(eval_data, worker_init_fn = worker_init_func,\n",
    "                         batch_size = 1, shuffle = False, pin_memory = False, \n",
    "                         num_workers = reader.n_worker)\n",
    "\n",
    "report = {group_name: {v: {} for v in feature_values}}\n",
    "print(f\"\\tGroup feature:{report.keys()}\")\n",
    "with torch.no_grad():\n",
    "    for i, batch_data in enumerate(eval_loader):\n",
    "        if np.random.random() <= eval_sample_p and \"no_item\" not in batch_data:\n",
    "            uid = batch_data[\"user_UserID\"].reshape(-1).detach().cpu().numpy()[0]\n",
    "            # predict\n",
    "            feed_dict = model.wrap_batch(batch_data)\n",
    "            out_dict = model.forward(feed_dict, return_prob = True)\n",
    "            pos_probs, neg_probs = out_dict[\"probs\"], out_dict[\"neg_probs\"]\n",
    "            # metrics\n",
    "            ranking_report = calculate_ranking_metric(pos_probs.view(-1), neg_probs.view(-1), at_k_list)\n",
    "            # record evaluation info for user groups of each selected field\n",
    "            G = group_dict[uid]\n",
    "                \n",
    "            for metric,val in ranking_report.items():\n",
    "                if metric not in report[group_name][G]:\n",
    "                    report[group_name][G][metric] = (val,1)\n",
    "                else:\n",
    "                    report[group_name][G][metric] = (report[group_name][G][metric][0] + val, \n",
    "                                                     report[group_name][G][metric][1] + 1)\n",
    "# aggregate each metric\n",
    "# {\"user_group_xxx\": {feature_value: {metric: (value_sum, value_count)}}}\n",
    "# --> {\"user_group_xxx\": {feature_value: {metric: value_sum / value_count}}}\n",
    "GD = report[group_name]\n",
    "print(GD)\n",
    "for group_value, metric_dict in GD.items():\n",
    "    GD[group_value] = {metric: val_tuple[0]/val_tuple[1] if val_tuple[1] !=0 else 0 \\\n",
    "                               for metric, val_tuple in metric_dict.items()}\n",
    "# calculate fairness evaluation metric\n",
    "#         aggregate_report = {metric: [group_dict[G][metric] for G in feature_values] \\\n",
    "#                             for metric in group_dict[feature_values[0]]}\n",
    "for metric in GD[feature_values[0]]:\n",
    "    performance_list = [GD[G][metric] for G in feature_values]\n",
    "    F = []\n",
    "    if method == 'diff':\n",
    "        max_abs = max(abs(max(performance_list)), abs(min(performance_list))) + 1e-7\n",
    "        for i,A in enumerate(performance_list):\n",
    "            for j in range(i+1,len(performance_list)):\n",
    "                F.append(abs(A-performance_list[j]) / max_abs)\n",
    "    elif method == 'original':\n",
    "        for i,A in enumerate(performance_list):\n",
    "            for j in range(i+1,len(performance_list)):\n",
    "                F.append(fair_lambda * (abs(A-performance_list[j]) ** fair_rho))\n",
    "    report[metric] = np.mean(F)\n"
   ]
  },
  {
   "cell_type": "code",
   "execution_count": 61,
   "metadata": {
    "scrolled": true
   },
   "outputs": [
    {
     "data": {
      "text/plain": [
       "{'user_group_activity': {'active': {'HR@10': 0.0945945945945946,\n",
       "   'P@10': 0.012387387611128547,\n",
       "   'RECALL@10': 0.007436314843141952,\n",
       "   'F1@10': 0.008589382723180784,\n",
       "   'NDCG@10': 0.011865340341050346,\n",
       "   'HR@50': 0.32432432432432434,\n",
       "   'P@50': 0.011351351145173874,\n",
       "   'RECALL@50': 0.035320784208608104,\n",
       "   'F1@50': 0.015896117037816626,\n",
       "   'NDCG@50': 0.02337918641302992,\n",
       "   'MR': 245.49776801833877,\n",
       "   'MRR': 0.004598938841213881,\n",
       "   'AUC': 0.7533320635806107},\n",
       "  'inactive': {'HR@10': 0.040934264387189986,\n",
       "   'P@10': 0.005032506707473574,\n",
       "   'RECALL@10': 0.009653664147627087,\n",
       "   'F1@10': 0.00653194597714383,\n",
       "   'NDCG@10': 0.007168525867137224,\n",
       "   'HR@50': 0.17288706958824945,\n",
       "   'P@50': 0.004642427058219049,\n",
       "   'RECALL@50': 0.045761813550233094,\n",
       "   'F1@50': 0.008387572016560712,\n",
       "   'NDCG@50': 0.02008112335374434,\n",
       "   'MR': 674.9562282766631,\n",
       "   'MRR': 0.0056263092345064025,\n",
       "   'AUC': 0.7585179131455559}},\n",
       " 'HR@10': 0.05366033020740461,\n",
       " 'P@10': 0.007354880903654973,\n",
       " 'RECALL@10': 0.0022173493044851346,\n",
       " 'F1@10': 0.0020574367460369537,\n",
       " 'NDCG@10': 0.004696814473913122,\n",
       " 'HR@50': 0.1514372547360749,\n",
       " 'P@50': 0.006708924086954825,\n",
       " 'RECALL@50': 0.01044102934162499,\n",
       " 'F1@50': 0.007508545021255914,\n",
       " 'NDCG@50': 0.0032980630592855803,\n",
       " 'MR': 429.4584602583243,\n",
       " 'MRR': 0.0010273703932925215,\n",
       " 'AUC': 0.005185849564945277}"
      ]
     },
     "execution_count": 61,
     "metadata": {},
     "output_type": "execute_result"
    }
   ],
   "source": [
    "report"
   ]
  },
  {
   "cell_type": "markdown",
   "metadata": {},
   "source": [
    "### Recommendation Unfairness\n",
    "\n",
    "* Group unfairness: \n",
    "    * User:\n",
    "        * Performance difference: abs(mean(performance|user in G) - mean(performance|user not in G))\n",
    "    * Item:\n",
    "        * Performance difference: abs(mean(performance|item in G) - mean(performance|item not in G))\n",
    "        * Exposure difference: abs(mean(exposure|item in G) - mean(exposure|item not in G))"
   ]
  },
  {
   "cell_type": "code",
   "execution_count": 62,
   "metadata": {},
   "outputs": [
    {
     "name": "stdout",
     "output_type": "stream",
     "text": [
      "active :\n",
      "{'HR@10': 0.0945945945945946, 'P@10': 0.012387387611128547, 'RECALL@10': 0.007436314843141952, 'F1@10': 0.008589382723180784, 'NDCG@10': 0.011865340341050346, 'HR@50': 0.32432432432432434, 'P@50': 0.011351351145173874, 'RECALL@50': 0.035320784208608104, 'F1@50': 0.015896117037816626, 'NDCG@50': 0.02337918641302992, 'MR': 245.49776801833877, 'MRR': 0.004598938841213881, 'AUC': 0.7533320635806107}\n",
      "inactive :\n",
      "{'HR@10': 0.040934264387189986, 'P@10': 0.005032506707473574, 'RECALL@10': 0.009653664147627087, 'F1@10': 0.00653194597714383, 'NDCG@10': 0.007168525867137224, 'HR@50': 0.17288706958824945, 'P@50': 0.004642427058219049, 'RECALL@50': 0.045761813550233094, 'F1@50': 0.008387572016560712, 'NDCG@50': 0.02008112335374434, 'MR': 674.9562282766631, 'MRR': 0.0056263092345064025, 'AUC': 0.7585179131455559}\n"
     ]
    }
   ],
   "source": [
    "stats = report[group_name]\n",
    "for G in feature_values:\n",
    "    print(G,\":\")\n",
    "    print(stats[G])"
   ]
  },
  {
   "cell_type": "code",
   "execution_count": 63,
   "metadata": {},
   "outputs": [
    {
     "name": "stdout",
     "output_type": "stream",
     "text": [
      "active :\n",
      "   inactive :\n",
      "    AUC:\t|0.7533320635806107 - 0.7585179131455559| = -0.005185849564945277, -0.6836818847744388%\n",
      "    F1@10:\t|0.008589382723180784 - 0.00653194597714383| = 0.0020574367460369537, 23.953254993334983%\n",
      "    F1@50:\t|0.015896117037816626 - 0.008387572016560712| = 0.007508545021255914, 47.235088942747446%\n",
      "    RECALL@10:\t|0.007436314843141952 - 0.009653664147627087| = -0.0022173493044851346, -22.968991572284693%\n",
      "    RECALL@50:\t|0.035320784208608104 - 0.045761813550233094| = -0.01044102934162499, -22.816030510162786%\n",
      "    NDCG@10:\t|0.011865340341050346 - 0.007168525867137224| = 0.004696814473913122, 39.58432155261169%\n",
      "    NDCG@50:\t|0.02337918641302992 - 0.02008112335374434| = 0.0032980630592855803, 14.106834177289725%\n",
      "inactive :\n"
     ]
    }
   ],
   "source": [
    "metrics = [selected_metric] \\\n",
    "            + [f'F1@{k}' for k in at_k_list] \\\n",
    "            + [f'RECALL@{k}' for k in at_k_list] \\\n",
    "            + [f'NDCG@{k}' for k in at_k_list]\n",
    "for i,G0 in enumerate(feature_values):\n",
    "    print(G0,\":\")\n",
    "    for G1 in feature_values[i+1:]:\n",
    "        print('  ',G1,':')\n",
    "        for m in metrics:\n",
    "            a,b = stats[G0][m], stats[G1][m]\n",
    "            diff = a - b\n",
    "            ratio = diff * 100 / max(a,b)\n",
    "            print(f\"    {m}:\\t|{a} - {b}| = {diff}, {ratio}%\")"
   ]
  },
  {
   "cell_type": "code",
   "execution_count": 64,
   "metadata": {},
   "outputs": [],
   "source": [
    "%matplotlib inline\n",
    "import matplotlib.pyplot as plt\n",
    "import numpy as np\n",
    "def plot_fairness(stats, group_field, vocab, ncol = 4):\n",
    "    '''\n",
    "    @input:\n",
    "    - stats: {field_name: {key: {metric: val}}}\n",
    "    - group_field: field_name\n",
    "    - vocab: {field_name: {key: idx}}\n",
    "    - ncol: number of subplots in each row\n",
    "    '''\n",
    "    assert ncol > 0\n",
    "    value_dict = stats[group_field]\n",
    "    X = list(value_dict.keys())\n",
    "    reversed_vdict = {}\n",
    "    for k,v in vocab[group_field].items():\n",
    "        if v not in reversed_vdict:\n",
    "            reversed_vdict[v] = str(k)\n",
    "        else:\n",
    "            reversed_vdict[v] += (\",\" + str(k))\n",
    "    print(reversed_vdict)\n",
    "    X_labels = [reversed_vdict[x] for x in X]\n",
    "    metrics = value_dict[X[0]]\n",
    "    N = len(metrics) # number of metrics\n",
    "    \n",
    "    plt.figure(figsize = (16, 3.5*((N-1)//ncol+1)))\n",
    "    for i,metric in enumerate(metrics):\n",
    "        plt.subplot((N-1)//ncol+1,ncol,i+1)\n",
    "        field_stats = stats[group_field] # {key: {metric: val}}\n",
    "        Y = [field_stats[x][metric] for x in X]\n",
    "        xt = np.arange(len(X))\n",
    "        plt.bar(xt,Y)\n",
    "        plt.title(metric)\n",
    "        plt.xticks(xt,X_labels)\n",
    "        plt.yticks(fontsize=7)\n",
    "        scale = 1e-7 + np.max(Y) - np.min(Y)\n",
    "        if len(X) >=2:\n",
    "#             plt.ylim(0, np.max(Y) + scale * 0.05)\n",
    "            plt.ylim(0, np.max(Y)*1.1)\n",
    "        else:\n",
    "            plt.ylim(0,max(1.,np.max(Y)*1.05))\n",
    "    plt.show()"
   ]
  },
  {
   "cell_type": "code",
   "execution_count": 65,
   "metadata": {
    "scrolled": true
   },
   "outputs": [
    {
     "name": "stdout",
     "output_type": "stream",
     "text": [
      "{'active': 'A', 'inactive': 'INA'}\n"
     ]
    },
    {
     "data": {
      "image/png": "[encoded data removed]",
      "text/plain": [
       "<Figure size 1152x756 with 13 Axes>"
      ]
     },
     "metadata": {
      "needs_background": "light"
     },
     "output_type": "display_data"
    }
   ],
   "source": [
    "group_labels = {\"user_group_activity\": {\"A\": \"active\" , \"INA\": \"inactive\"}} if group_name == \"user_group_activity\" else {}\n",
    "plot_fairness({group_name: stats}, group_name, group_labels, ncol=5)"
   ]
  },
  {
   "cell_type": "code",
   "execution_count": null,
   "metadata": {},
   "outputs": [],
   "source": []
  },
  {
   "cell_type": "code",
   "execution_count": null,
   "metadata": {},
   "outputs": [],
   "source": []
  }
 ],
 "metadata": {
  "kernelspec": {
   "display_name": "BMRL",
   "language": "python",
   "name": "bmrl"
  },
  "language_info": {
   "codemirror_mode": {
    "name": "ipython",
    "version": 3
   },
   "file_extension": ".py",
   "mimetype": "text/x-python",
   "name": "python",
   "nbconvert_exporter": "python",
   "pygments_lexer": "ipython3",
   "version": "3.9.6"
  }
 },
 "nbformat": 4,
 "nbformat_minor": 2
}
