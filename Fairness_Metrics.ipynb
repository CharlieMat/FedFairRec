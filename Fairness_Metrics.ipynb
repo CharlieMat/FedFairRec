{
 "cells": [
  {
   "cell_type": "markdown",
   "metadata": {},
   "source": [
    "## Data Reader"
   ]
  },
  {
   "cell_type": "code",
   "execution_count": 1,
   "metadata": {},
   "outputs": [],
   "source": [
    "# data_key = \"ml-1m\"\n",
    "data_key = 'BX'\n",
    "ROOT=\"/home/sl1471/workspace/experiments/\" + data_key\n",
    "setting = {'lr': 0.0001, \n",
    "           'l2_coef': 0.01, \n",
    "           'loss': 'pairwisebpr', \n",
    "           'fair_lambda': '0.', \n",
    "           'group_feature': 'activity'}\n",
    "modelName = 'MF'"
   ]
  },
  {
   "cell_type": "code",
   "execution_count": 2,
   "metadata": {},
   "outputs": [
    {
     "name": "stdout",
     "output_type": "stream",
     "text": [
      "Namespace(cuda=3, seed=9, train=False, train_and_eval=True, continuous_train=False, eval=False, model_path='/home/sl1471/workspace/experiments/BX/models/MF_lr0.0001_reg0.01_pairwisebpr_lambda0._gactivity.pkl', loss='pairwisebpr', l2_coef=0.01, emb_size=32, data_file='/home/sl1471/workspace/experiments/BX/tsv_data/', n_worker=4, user_meta_data='/home/sl1471/workspace/experiments/BX/meta_data/user.meta', item_meta_data='/home/sl1471/workspace/experiments/BX/meta_data/item.meta', user_fields_meta_file='/home/sl1471/workspace/experiments/BX/meta_data/user_fields.meta', item_fields_meta_file='/home/sl1471/workspace/experiments/BX/meta_data/item_fields.meta', user_fields_vocab_file='/home/sl1471/workspace/experiments/BX/meta_data/user_fields.vocab', item_fields_vocab_file='/home/sl1471/workspace/experiments/BX/meta_data/item_fields.vocab', n_neg=1, n_neg_val=100, n_neg_test=-1, n_round=1, optimizer='Adam', epoch=30, check_epoch=1, lr=0.0001, batch_size=512, eval_batch_size=1, temper=6, with_val=True, val_sample_p=0.1, test_sample_p=1.0, stop_metric='_AUC', pin_memory=False, at_k=[1, 5, 10, 20, 50], n_eval_process=1, fair_lambda=0.0, fair_rho=2, fair_group_feature='activity')\n"
     ]
    }
   ],
   "source": [
    "import os,sys,inspect\n",
    "currentdir = os.path.dirname(os.path.abspath(inspect.getfile(inspect.currentframe())))\n",
    "parentdir = os.path.dirname(currentdir)\n",
    "sys.path.insert(0,parentdir)\n",
    "\n",
    "from reader.FedRecReader import FedRecReader\n",
    "import argparse\n",
    "from argparse import Namespace\n",
    "\n",
    "log_path = ROOT + f\"/logs/fairtrain_and_eval_{modelName}_lr{setting['lr']}_reg{setting['l2_coef']}_loss{setting['loss']}_lambda{setting['fair_lambda']}_g{setting['group_feature']}.log\"\n",
    "\n",
    "def read_line_number(file_path, line_num):\n",
    "    with open(file_path, 'r') as fin:\n",
    "        for i,line in enumerate(fin):\n",
    "            if i == line_num:\n",
    "                return line.strip()\n",
    "    return \"\"\n",
    "args = eval(read_line_number(log_path, 1))\n",
    "print(args)"
   ]
  },
  {
   "cell_type": "code",
   "execution_count": 3,
   "metadata": {},
   "outputs": [
    {
     "name": "stdout",
     "output_type": "stream",
     "text": [
      "Loading train data file. Done.\n",
      "Loading val data file. Done.\n",
      "Loading test data file. Done.\n",
      "   UserID      ItemID  Response  Timestamp\n",
      "0  277195  0060391626        10       1083\n",
      "1  277195  0060502258         0       1084\n",
      "2  277195  0060987561         0       1089\n",
      "3  277195  0316666343         0       1098\n",
      "4  277195  0316734837         0       1099\n",
      "Load field meta and vocab file.\n",
      "Load vocab from : /home/sl1471/workspace/experiments/BX/meta_data/user_fields.vocab\n",
      "User fields: ['UserID', 'Location', 'AgeGroup']\n",
      "Load vocab from : /home/sl1471/workspace/experiments/BX/meta_data/item_fields.vocab\n",
      "Item fields: ['ItemID', 'Year', 'Publisher']\n",
      "Appending history info\n",
      "Buffer negative training and validation samples\n"
     ]
    },
    {
     "name": "stderr",
     "output_type": "stream",
     "text": [
      "100%|██████████| 2560/2560 [00:04<00:00, 583.32it/s]\n"
     ]
    }
   ],
   "source": [
    "reader = FedRecReader(args)"
   ]
  },
  {
   "cell_type": "code",
   "execution_count": 4,
   "metadata": {
    "scrolled": true
   },
   "outputs": [
    {
     "name": "stdout",
     "output_type": "stream",
     "text": [
      "user activity: 656(A) -- 1904(I), threshold (72.35625)\n"
     ]
    }
   ],
   "source": [
    "from model.fair_rec.FairUserGroupPerformance import get_user_group_info\n",
    "\n",
    "# group_feature = 'AgeGroup'\n",
    "group_feature = 'activity'\n",
    "group_dict, feature_values = get_user_group_info(reader, group_feature)"
   ]
  },
  {
   "cell_type": "markdown",
   "metadata": {},
   "source": [
    "## Model"
   ]
  },
  {
   "cell_type": "code",
   "execution_count": 5,
   "metadata": {},
   "outputs": [
    {
     "name": "stdout",
     "output_type": "stream",
     "text": [
      "embedding: tensor([[-0.0056,  0.0228,  0.0220,  ..., -0.0166,  0.0186,  0.0279],\n",
      "        [ 0.0044,  0.0434, -0.0030,  ..., -0.0036, -0.0498, -0.0309],\n",
      "        [ 0.0385, -0.0153, -0.0325,  ..., -0.0407,  0.0103,  0.0107],\n",
      "        ...,\n",
      "        [ 0.0558, -0.0079,  0.0205,  ...,  0.0328, -0.0358,  0.0217],\n",
      "        [ 0.0067,  0.0584,  0.0386,  ...,  0.0380,  0.0423,  0.0278],\n",
      "        [-0.0111,  0.0208, -0.0058,  ...,  0.0199,  0.0462, -0.0032]])\n",
      "embedding: tensor([[ 0.0078, -0.0011,  0.0029,  ...,  0.0340, -0.0179,  0.0033],\n",
      "        [-0.0412,  0.0233,  0.0109,  ...,  0.0042,  0.0354, -0.0109],\n",
      "        [-0.0017,  0.0143, -0.0228,  ...,  0.0099, -0.0079, -0.0493],\n",
      "        ...,\n",
      "        [-0.0261, -0.0249,  0.0400,  ..., -0.0013,  0.0272, -0.0529],\n",
      "        [-0.0056,  0.0023,  0.0051,  ...,  0.0009,  0.0337, -0.0065],\n",
      "        [-0.0249,  0.0066,  0.0092,  ...,  0.0134,  0.0301,  0.0039]])\n",
      "Load (checkpoint) from /home/sl1471/workspace/experiments/BX/models/MF_lr0.0001_reg0.01_pairwisebpr_lambda0._gactivity.pkl\n"
     ]
    }
   ],
   "source": [
    "from model.baselines import *\n",
    "from model.fed_rec import *\n",
    "\n",
    "device = 'cuda:2'\n",
    "modelClass = eval('{0}.{0}'.format(modelName))\n",
    "model = modelClass(args, reader, device)\n",
    "model.load_from_checkpoint(args.model_path, with_optimizer = False)\n",
    "model = model.to(device)\n",
    "model.device = device"
   ]
  },
  {
   "cell_type": "markdown",
   "metadata": {},
   "source": [
    "## Evaluate"
   ]
  },
  {
   "cell_type": "code",
   "execution_count": 6,
   "metadata": {},
   "outputs": [],
   "source": [
    "method = 'diff'\n",
    "selected_metric = 'AUC'\n",
    "at_k_list = [1,10,20,50]\n",
    "group_name = f\"user_group_{group_feature}\"\n",
    "eval_sample_p = 1.0\n",
    "fair_rho = args.fair_rho\n",
    "fair_lambda = args.fair_lambda"
   ]
  },
  {
   "cell_type": "code",
   "execution_count": 7,
   "metadata": {},
   "outputs": [
    {
     "name": "stdout",
     "output_type": "stream",
     "text": [
      "Fairness evaluation (G - activity):\n",
      "\tGroup feature:dict_keys(['user_group_activity'])\n"
     ]
    },
    {
     "name": "stderr",
     "output_type": "stream",
     "text": [
      "100%|██████████| 2559/2559 [02:43<00:00, 15.66it/s]\n",
      "100%|██████████| 2559/2559 [02:43<00:00, 15.64it/s]\n",
      "100%|██████████| 2559/2559 [02:43<00:00, 15.64it/s]\n",
      "100%|██████████| 2559/2559 [02:43<00:00, 15.64it/s]\n"
     ]
    }
   ],
   "source": [
    "from torch.utils.data import DataLoader\n",
    "import torch\n",
    "import numpy as np\n",
    "\n",
    "from reader.BaseReader import worker_init_func\n",
    "from task.TopK import calculate_ranking_metric\n",
    "\n",
    "print(f\"Fairness evaluation (G - {group_feature}):\")\n",
    "reader.set_phase(\"test\")\n",
    "eval_data = reader.get_eval_dataset()\n",
    "eval_loader = DataLoader(eval_data, worker_init_fn = worker_init_func,\n",
    "                         batch_size = 1, shuffle = False, pin_memory = False, \n",
    "                         num_workers = eval_data.n_worker)\n",
    "\n",
    "report = {group_name: {v: {} for v in feature_values}}\n",
    "print(f\"\\tGroup feature:{report.keys()}\")\n",
    "with torch.no_grad():\n",
    "    for i, batch_data in enumerate(eval_loader):\n",
    "        if np.random.random() <= eval_sample_p and \"no_item\" not in batch_data:\n",
    "            uid = batch_data[\"user_UserID\"].reshape(-1).detach().cpu().numpy()[0]\n",
    "            # predict\n",
    "            feed_dict = model.wrap_batch(batch_data)\n",
    "            out_dict = model.forward(feed_dict, return_prob = True)\n",
    "            pos_probs, neg_probs = out_dict[\"probs\"], out_dict[\"neg_probs\"]\n",
    "            # metrics\n",
    "            ranking_report = calculate_ranking_metric(pos_probs.view(-1), neg_probs.view(-1), at_k_list)\n",
    "            # record evaluation info for user groups of each selected field\n",
    "            G = group_dict[uid]\n",
    "            for metric,val in ranking_report.items():\n",
    "                if metric not in report[group_name][G]:\n",
    "                    report[group_name][G][metric] = (val,1)\n",
    "                else:\n",
    "                    report[group_name][G][metric] = (report[group_name][G][metric][0] + val, \n",
    "                                                     report[group_name][G][metric][1] + 1)  \n",
    "# aggregate each metric\n",
    "# {\"user_group_xxx\": {feature_value: {metric: (value_sum, value_count)}}}\n",
    "# --> {\"user_group_xxx\": {feature_value: {metric: value_sum / value_count}}}\n",
    "GD = report[group_name]\n",
    "for group_value, metric_dict in GD.items():\n",
    "    GD[group_value] = {metric: val_tuple[0]/val_tuple[1] if val_tuple[1] !=0 else 0 \\\n",
    "                               for metric, val_tuple in metric_dict.items()}\n",
    "# calculate fairness evaluation metric\n",
    "#         aggregate_report = {metric: [group_dict[G][metric] for G in feature_values] \\\n",
    "#                             for metric in group_dict[feature_values[0]]}\n",
    "for metric in GD[feature_values[0]]:\n",
    "    performance_list = [GD[G][metric] for G in feature_values]\n",
    "    F = []\n",
    "    if method == 'diff':\n",
    "        max_abs = max(abs(max(performance_list)), abs(min(performance_list))) + 1e-7\n",
    "        for i,A in enumerate(performance_list):\n",
    "            for j in range(i+1,len(performance_list)):\n",
    "                F.append(abs(A-performance_list[j]) / max_abs)\n",
    "    elif method == 'original':\n",
    "        for i,A in enumerate(performance_list):\n",
    "            for j in range(i+1,len(performance_list)):\n",
    "                F.append(fair_lambda * (abs(A-performance_list[j]) ** fair_rho))\n",
    "    report[metric] = np.mean(F)\n"
   ]
  },
  {
   "cell_type": "code",
   "execution_count": 8,
   "metadata": {
    "scrolled": true
   },
   "outputs": [
    {
     "data": {
      "text/plain": [
       "{'user_group_activity': {'active': {'HR@1': 0.5368421052631579,\n",
       "   'P@1': 0.5368421052631579,\n",
       "   'RECALL@1': 0.04789311501540636,\n",
       "   'F1@1': 0.08749542910801737,\n",
       "   'NDCG@1': 0.5368421052631579,\n",
       "   'HR@10': 0.5368421052631579,\n",
       "   'P@10': 0.09578947534686641,\n",
       "   'RECALL@10': 0.08689323887228965,\n",
       "   'F1@10': 0.0897038444484535,\n",
       "   'NDCG@10': 0.17450610399246216,\n",
       "   'HR@20': 0.5368421052631579,\n",
       "   'P@20': 0.047894737673433205,\n",
       "   'RECALL@20': 0.08689323887228965,\n",
       "   'F1@20': 0.060809793323278426,\n",
       "   'NDCG@20': 0.1590225647938879,\n",
       "   'HR@50': 0.5368421052631579,\n",
       "   'P@50': 0.019157894387056954,\n",
       "   'RECALL@50': 0.08689323887228965,\n",
       "   'F1@50': 0.03105707176421818,\n",
       "   'NDCG@50': 0.15808545413770173,\n",
       "   'MR': 165.09447053608142,\n",
       "   'MRR': 0.0645694401688065,\n",
       "   'AUC': 0.5329798161105092},\n",
       "  'inactive': {'HR@1': 0.28731045490822027,\n",
       "   'P@1': 0.28731045490822027,\n",
       "   'RECALL@1': 0.09465790128503336,\n",
       "   'F1@1': 0.13757331902421385,\n",
       "   'NDCG@1': 0.28731045490822027,\n",
       "   'HR@10': 0.28731045490822027,\n",
       "   'P@10': 0.037031125975958555,\n",
       "   'RECALL@10': 0.11453527509452625,\n",
       "   'F1@10': 0.05372176149894215,\n",
       "   'NDCG@10': 0.15013837607403516,\n",
       "   'HR@20': 0.28731045490822027,\n",
       "   'P@20': 0.018515562987979278,\n",
       "   'RECALL@20': 0.11453527509452625,\n",
       "   'F1@20': 0.031009173527633487,\n",
       "   'NDCG@20': 0.15013837607403516,\n",
       "   'HR@50': 0.28731045490822027,\n",
       "   'P@50': 0.007406224894314315,\n",
       "   'RECALL@50': 0.11453527509452625,\n",
       "   'F1@50': 0.01372449458870332,\n",
       "   'NDCG@50': 0.15013837607403516,\n",
       "   'MR': 677.7215469179873,\n",
       "   'MRR': 0.10459509108818366,\n",
       "   'AUC': 0.558784012776113}},\n",
       " 'HR@1': 0.4648137719213381,\n",
       " 'P@1': 0.4648137719213381,\n",
       " 'RECALL@1': 0.49403944341492356,\n",
       " 'F1@1': 0.3640084710505191,\n",
       " 'NDCG@1': 0.4648137719213381,\n",
       " 'HR@10': 0.4648137719213381,\n",
       " 'P@10': 0.6134106885653923,\n",
       " 'RECALL@10': 0.24134060066091872,\n",
       " 'F1@10': 0.40112040970715285,\n",
       " 'NDCG@10': 0.13963817538246134,\n",
       " 'HR@20': 0.4648137719213381,\n",
       " 'P@20': 0.6134100481929446,\n",
       " 'RECALL@20': 0.24134060066091872,\n",
       " 'F1@20': 0.49006203048603386,\n",
       " 'NDCG@20': 0.05586743708117143,\n",
       " 'HR@50': 0.4648137719213381,\n",
       " 'P@50': 0.6134081290201238,\n",
       " 'RECALL@50': 0.24134060066091872,\n",
       " 'F1@50': 0.5580861421349448,\n",
       " 'NDCG@50': 0.050270741732316666,\n",
       " 'MR': 0.7563977840714874,\n",
       " 'MRR': 0.38267199957244435,\n",
       " 'AUC': 0.0461791881258134}"
      ]
     },
     "execution_count": 8,
     "metadata": {},
     "output_type": "execute_result"
    }
   ],
   "source": [
    "report"
   ]
  },
  {
   "cell_type": "markdown",
   "metadata": {},
   "source": [
    "### Recommendation Unfairness\n",
    "\n",
    "* Group unfairness: \n",
    "    * User:\n",
    "        * Performance difference: abs(mean(performance|user in G) - mean(performance|user not in G))\n",
    "    * Item:\n",
    "        * Performance difference: abs(mean(performance|item in G) - mean(performance|item not in G))\n",
    "        * Exposure difference: abs(mean(exposure|item in G) - mean(exposure|item not in G))"
   ]
  },
  {
   "cell_type": "code",
   "execution_count": 9,
   "metadata": {},
   "outputs": [
    {
     "name": "stdout",
     "output_type": "stream",
     "text": [
      "active :\n",
      "{'HR@1': 0.5368421052631579, 'P@1': 0.5368421052631579, 'RECALL@1': 0.04789311501540636, 'F1@1': 0.08749542910801737, 'NDCG@1': 0.5368421052631579, 'HR@10': 0.5368421052631579, 'P@10': 0.09578947534686641, 'RECALL@10': 0.08689323887228965, 'F1@10': 0.0897038444484535, 'NDCG@10': 0.17450610399246216, 'HR@20': 0.5368421052631579, 'P@20': 0.047894737673433205, 'RECALL@20': 0.08689323887228965, 'F1@20': 0.060809793323278426, 'NDCG@20': 0.1590225647938879, 'HR@50': 0.5368421052631579, 'P@50': 0.019157894387056954, 'RECALL@50': 0.08689323887228965, 'F1@50': 0.03105707176421818, 'NDCG@50': 0.15808545413770173, 'MR': 165.09447053608142, 'MRR': 0.0645694401688065, 'AUC': 0.5329798161105092}\n",
      "inactive :\n",
      "{'HR@1': 0.28731045490822027, 'P@1': 0.28731045490822027, 'RECALL@1': 0.09465790128503336, 'F1@1': 0.13757331902421385, 'NDCG@1': 0.28731045490822027, 'HR@10': 0.28731045490822027, 'P@10': 0.037031125975958555, 'RECALL@10': 0.11453527509452625, 'F1@10': 0.05372176149894215, 'NDCG@10': 0.15013837607403516, 'HR@20': 0.28731045490822027, 'P@20': 0.018515562987979278, 'RECALL@20': 0.11453527509452625, 'F1@20': 0.031009173527633487, 'NDCG@20': 0.15013837607403516, 'HR@50': 0.28731045490822027, 'P@50': 0.007406224894314315, 'RECALL@50': 0.11453527509452625, 'F1@50': 0.01372449458870332, 'NDCG@50': 0.15013837607403516, 'MR': 677.7215469179873, 'MRR': 0.10459509108818366, 'AUC': 0.558784012776113}\n"
     ]
    }
   ],
   "source": [
    "stats = report[group_name]\n",
    "for G in feature_values:\n",
    "    print(G,\":\")\n",
    "    print(stats[G])"
   ]
  },
  {
   "cell_type": "code",
   "execution_count": 14,
   "metadata": {},
   "outputs": [
    {
     "name": "stdout",
     "output_type": "stream",
     "text": [
      "active :\n",
      "   inactive :\n",
      "    AUC:\t|0.5329798161105092 - 0.558784012776113| = -0.02580419666560385, -4.6179196390041986%\n",
      "    HR@1:\t|0.5368421052631579 - 0.28731045490822027| = 0.24953165035493763, 46.481385850429554%\n",
      "    HR@10:\t|0.5368421052631579 - 0.28731045490822027| = 0.24953165035493763, 46.481385850429554%\n",
      "    HR@20:\t|0.5368421052631579 - 0.28731045490822027| = 0.24953165035493763, 46.481385850429554%\n",
      "    HR@50:\t|0.5368421052631579 - 0.28731045490822027| = 0.24953165035493763, 46.481385850429554%\n",
      "    RECALL@1:\t|0.04789311501540636 - 0.09465790128503336| = -0.046764786269627004, -49.40399653359009%\n",
      "    RECALL@10:\t|0.08689323887228965 - 0.11453527509452625| = -0.0276420362222366, -24.134081137381962%\n",
      "    RECALL@20:\t|0.08689323887228965 - 0.11453527509452625| = -0.0276420362222366, -24.134081137381962%\n",
      "    RECALL@50:\t|0.08689323887228965 - 0.11453527509452625| = -0.0276420362222366, -24.134081137381962%\n",
      "    NDCG@1:\t|0.5368421052631579 - 0.28731045490822027| = 0.24953165035493763, 46.481385850429554%\n",
      "    NDCG@10:\t|0.17450610399246216 - 0.15013837607403516| = 0.024367727918427007, 13.963825540153929%\n",
      "    NDCG@20:\t|0.1590225647938879 - 0.15013837607403516| = 0.008884188719852748, 5.5867472212938525%\n",
      "    NDCG@50:\t|0.15808545413770173 - 0.15013837607403516| = 0.007947078063666568, 5.027077353204297%\n",
      "inactive :\n"
     ]
    }
   ],
   "source": [
    "metrics = [selected_metric] \\\n",
    "            + [f'HR@{k}' for k in at_k_list] \\\n",
    "            + [f'RECALL@{k}' for k in at_k_list] \\\n",
    "            + [f'NDCG@{k}' for k in at_k_list]\n",
    "for i,G0 in enumerate(feature_values):\n",
    "    print(G0,\":\")\n",
    "    for G1 in feature_values[i+1:]:\n",
    "        print('  ',G1,':')\n",
    "        for m in metrics:\n",
    "            a,b = stats[G0][m], stats[G1][m]\n",
    "            diff = a - b\n",
    "            ratio = diff * 100 / max(a,b)\n",
    "            print(f\"    {m}:\\t|{a} - {b}| = {diff}, {ratio}%\")"
   ]
  },
  {
   "cell_type": "code",
   "execution_count": 15,
   "metadata": {},
   "outputs": [],
   "source": [
    "%matplotlib inline\n",
    "import matplotlib.pyplot as plt\n",
    "import numpy as np\n",
    "def plot_fairness(stats, group_field, vocab, ncol = 4):\n",
    "    '''\n",
    "    @input:\n",
    "    - stats: {field_name: {key: {metric: val}}}\n",
    "    - group_field: field_name\n",
    "    - vocab: {field_name: {key: idx}}\n",
    "    - ncol: number of subplots in each row\n",
    "    '''\n",
    "    assert ncol > 0\n",
    "    value_dict = stats[group_field]\n",
    "    X = list(value_dict.keys())\n",
    "    reversed_vdict = {}\n",
    "    for k,v in vocab[group_field].items():\n",
    "        if v not in reversed_vdict:\n",
    "            reversed_vdict[v] = str(k)\n",
    "        else:\n",
    "            reversed_vdict[v] += (\",\" + str(k))\n",
    "    print(reversed_vdict)\n",
    "    X_labels = [reversed_vdict[x] for x in X]\n",
    "    metrics = value_dict[X[0]]\n",
    "    N = len(metrics) # number of metrics\n",
    "    \n",
    "    plt.figure(figsize = (16, 3.5*((N-1)//ncol+1)))\n",
    "    for i,metric in enumerate(metrics):\n",
    "        plt.subplot((N-1)//ncol+1,ncol,i+1)\n",
    "        field_stats = stats[group_field] # {key: {metric: val}}\n",
    "        Y = [field_stats[x][metric] for x in X]\n",
    "        xt = np.arange(len(X))\n",
    "        plt.bar(xt,Y)\n",
    "        plt.title(metric)\n",
    "        plt.xticks(xt,X_labels)\n",
    "        plt.yticks(fontsize=7)\n",
    "        scale = 1e-7 + np.max(Y) - np.min(Y)\n",
    "        if len(X) >=2:\n",
    "#             plt.ylim(0, np.max(Y) + scale * 0.05)\n",
    "            plt.ylim(0, np.max(Y)*1.1)\n",
    "        else:\n",
    "            plt.ylim(0,max(1.,np.max(Y)*1.05))\n",
    "    plt.show()"
   ]
  },
  {
   "cell_type": "code",
   "execution_count": 16,
   "metadata": {
    "scrolled": true
   },
   "outputs": [
    {
     "name": "stdout",
     "output_type": "stream",
     "text": [
      "{'active': 'A', 'inactive': 'INA'}\n"
     ]
    },
    {
     "data": {
      "image/png": "[encoded data removed]",
      "text/plain": [
       "<Figure size 1152x1260 with 23 Axes>"
      ]
     },
     "metadata": {
      "needs_background": "light"
     },
     "output_type": "display_data"
    }
   ],
   "source": [
    "group_labels = {\"user_group_activity\": {\"A\": \"active\" , \"INA\": \"inactive\"}} if group_name == \"user_group_activity\" else {}\n",
    "plot_fairness({group_name: stats}, group_name, group_labels, ncol=5)"
   ]
  },
  {
   "cell_type": "code",
   "execution_count": null,
   "metadata": {},
   "outputs": [],
   "source": []
  }
 ],
 "metadata": {
  "kernelspec": {
   "display_name": "BMRL",
   "language": "python",
   "name": "bmrl"
  },
  "language_info": {
   "codemirror_mode": {
    "name": "ipython",
    "version": 3
   },
   "file_extension": ".py",
   "mimetype": "text/x-python",
   "name": "python",
   "nbconvert_exporter": "python",
   "pygments_lexer": "ipython3",
   "version": "3.9.6"
  }
 },
 "nbformat": 4,
 "nbformat_minor": 2
}
