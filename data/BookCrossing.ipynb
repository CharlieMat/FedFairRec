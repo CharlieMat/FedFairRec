{
 "cells": [
  {
   "cell_type": "code",
   "execution_count": 1,
   "id": "618c74d8",
   "metadata": {},
   "outputs": [],
   "source": [
    "import os,sys,inspect\n",
    "currentdir = os.path.dirname(os.path.abspath(inspect.getfile(inspect.currentframe())))\n",
    "parentdir = os.path.dirname(currentdir)\n",
    "sys.path.insert(0,parentdir) \n",
    "\n",
    "DATA_ROOT = \"/home/sl1471/public/\"\n",
    "target_path = \"/home/sl1471/workspace/experiments/BX/\"\n",
    "data_path = DATA_ROOT + \"bookcrossing/\"\n",
    "\n",
    "user_core = 20\n",
    "item_core = 10"
   ]
  },
  {
   "cell_type": "markdown",
   "id": "281a7b58",
   "metadata": {},
   "source": [
    "### Rating Data"
   ]
  },
  {
   "cell_type": "code",
   "execution_count": 2,
   "id": "db4d57c0",
   "metadata": {},
   "outputs": [],
   "source": [
    "import pandas as pd\n",
    "df = pd.read_table(data_path + \"BX-Book-Ratings.csv\", sep=\";\", encoding_errors='ignore', header = 0, names = [\"UserID\", \"ItemID\", \"Response\"])"
   ]
  },
  {
   "cell_type": "code",
   "execution_count": 3,
   "id": "0a2b4310",
   "metadata": {},
   "outputs": [
    {
     "data": {
      "text/html": [
       "<div>\n",
       "<style scoped>\n",
       "    .dataframe tbody tr th:only-of-type {\n",
       "        vertical-align: middle;\n",
       "    }\n",
       "\n",
       "    .dataframe tbody tr th {\n",
       "        vertical-align: top;\n",
       "    }\n",
       "\n",
       "    .dataframe thead th {\n",
       "        text-align: right;\n",
       "    }\n",
       "</style>\n",
       "<table border=\"1\" class=\"dataframe\">\n",
       "  <thead>\n",
       "    <tr style=\"text-align: right;\">\n",
       "      <th></th>\n",
       "      <th>UserID</th>\n",
       "      <th>ItemID</th>\n",
       "      <th>Response</th>\n",
       "      <th>Timestamp</th>\n",
       "    </tr>\n",
       "  </thead>\n",
       "  <tbody>\n",
       "    <tr>\n",
       "      <th>0</th>\n",
       "      <td>276725</td>\n",
       "      <td>034545104X</td>\n",
       "      <td>0</td>\n",
       "      <td>0</td>\n",
       "    </tr>\n",
       "    <tr>\n",
       "      <th>1</th>\n",
       "      <td>276726</td>\n",
       "      <td>0155061224</td>\n",
       "      <td>5</td>\n",
       "      <td>1</td>\n",
       "    </tr>\n",
       "    <tr>\n",
       "      <th>2</th>\n",
       "      <td>276727</td>\n",
       "      <td>0446520802</td>\n",
       "      <td>0</td>\n",
       "      <td>2</td>\n",
       "    </tr>\n",
       "    <tr>\n",
       "      <th>3</th>\n",
       "      <td>276729</td>\n",
       "      <td>052165615X</td>\n",
       "      <td>3</td>\n",
       "      <td>3</td>\n",
       "    </tr>\n",
       "    <tr>\n",
       "      <th>4</th>\n",
       "      <td>276729</td>\n",
       "      <td>0521795028</td>\n",
       "      <td>6</td>\n",
       "      <td>4</td>\n",
       "    </tr>\n",
       "  </tbody>\n",
       "</table>\n",
       "</div>"
      ],
      "text/plain": [
       "   UserID      ItemID  Response  Timestamp\n",
       "0  276725  034545104X         0          0\n",
       "1  276726  0155061224         5          1\n",
       "2  276727  0446520802         0          2\n",
       "3  276729  052165615X         3          3\n",
       "4  276729  0521795028         6          4"
      ]
     },
     "execution_count": 3,
     "metadata": {},
     "output_type": "execute_result"
    }
   ],
   "source": [
    "df['Timestamp'] = [i for i in range(len(df))]\n",
    "df[:5]"
   ]
  },
  {
   "cell_type": "code",
   "execution_count": 4,
   "id": "df2e16ad",
   "metadata": {},
   "outputs": [
    {
     "name": "stdout",
     "output_type": "stream",
     "text": [
      "#user: 105283\n",
      "#item: 340553\n",
      "sparsity: 0.9999679320064145\n"
     ]
    }
   ],
   "source": [
    "n_user, n_item = len(df.UserID.unique()), len(df.ItemID.unique())\n",
    "print(f\"#user: {n_user}\")\n",
    "print(f\"#item: {n_item}\")\n",
    "print(f\"sparsity: {1.0 - len(df) / (n_user * n_item)}\")"
   ]
  },
  {
   "cell_type": "code",
   "execution_count": 5,
   "id": "58aafa4b",
   "metadata": {
    "scrolled": true
   },
   "outputs": [
    {
     "name": "stdout",
     "output_type": "stream",
     "text": [
      "N-core is set to [5,100]\n",
      "Filtering (20,10)-core data\n",
      "Iteration 1\n"
     ]
    },
    {
     "name": "stderr",
     "output_type": "stream",
     "text": [
      "100%|██████████| 1149780/1149780 [00:01<00:00, 625684.14it/s]\n"
     ]
    },
    {
     "name": "stdout",
     "output_type": "stream",
     "text": [
      "Number of removed record: 773964\n",
      "Iteration 2\n"
     ]
    },
    {
     "name": "stderr",
     "output_type": "stream",
     "text": [
      "100%|██████████| 375816/375816 [00:00<00:00, 767494.60it/s]\n"
     ]
    },
    {
     "name": "stdout",
     "output_type": "stream",
     "text": [
      "Number of removed record: 48678\n",
      "Iteration 3\n"
     ]
    },
    {
     "name": "stderr",
     "output_type": "stream",
     "text": [
      "100%|██████████| 327138/327138 [00:00<00:00, 858301.66it/s]\n"
     ]
    },
    {
     "name": "stdout",
     "output_type": "stream",
     "text": [
      "Number of removed record: 8383\n",
      "Iteration 4\n"
     ]
    },
    {
     "name": "stderr",
     "output_type": "stream",
     "text": [
      "100%|██████████| 318755/318755 [00:00<00:00, 583849.82it/s]\n"
     ]
    },
    {
     "name": "stdout",
     "output_type": "stream",
     "text": [
      "Number of removed record: 1330\n",
      "Iteration 5\n"
     ]
    },
    {
     "name": "stderr",
     "output_type": "stream",
     "text": [
      "100%|██████████| 317425/317425 [00:00<00:00, 713140.87it/s]\n"
     ]
    },
    {
     "name": "stdout",
     "output_type": "stream",
     "text": [
      "Number of removed record: 109\n",
      "Iteration 6\n"
     ]
    },
    {
     "name": "stderr",
     "output_type": "stream",
     "text": [
      "100%|██████████| 317316/317316 [00:00<00:00, 807108.67it/s]\n"
     ]
    },
    {
     "name": "stdout",
     "output_type": "stream",
     "text": [
      "Number of removed record: 54\n",
      "Iteration 7\n"
     ]
    },
    {
     "name": "stderr",
     "output_type": "stream",
     "text": [
      "100%|██████████| 317262/317262 [00:00<00:00, 761470.05it/s]\n"
     ]
    },
    {
     "name": "stdout",
     "output_type": "stream",
     "text": [
      "Number of removed record: 12\n",
      "Iteration 8\n"
     ]
    },
    {
     "name": "stderr",
     "output_type": "stream",
     "text": [
      "100%|██████████| 317250/317250 [00:00<00:00, 654169.20it/s]\n"
     ]
    },
    {
     "name": "stdout",
     "output_type": "stream",
     "text": [
      "Number of removed record: 0\n",
      "Size change: 1149780 --> 317250\n"
     ]
    }
   ],
   "source": [
    "from data.preprocess import run_multicore_asymetric\n",
    "multicore_data = run_multicore_asymetric(df, user_core, item_core)\n",
    "# multicore_data = run_multicore_asymetric(multicore_data, 20, 10)"
   ]
  },
  {
   "cell_type": "code",
   "execution_count": 6,
   "id": "6b952fb3",
   "metadata": {},
   "outputs": [
    {
     "name": "stdout",
     "output_type": "stream",
     "text": [
      "#user: 3578\n",
      "#item: 12048\n",
      "#record: 317250\n",
      "sparsity: 0.9926405334503239\n"
     ]
    }
   ],
   "source": [
    "n_user, n_item = len(multicore_data.UserID.unique()), len(multicore_data.ItemID.unique())\n",
    "print(f\"#user: {n_user}\")\n",
    "print(f\"#item: {n_item}\")\n",
    "print(f\"#record: {len(multicore_data)}\")\n",
    "print(f\"sparsity: {1.0 - len(multicore_data) / (n_user * n_item)}\")"
   ]
  },
  {
   "cell_type": "code",
   "execution_count": 7,
   "id": "4ed3b3cc",
   "metadata": {},
   "outputs": [
    {
     "name": "stderr",
     "output_type": "stream",
     "text": [
      "/home/sl1471/anaconda3/envs/bmrl/lib/python3.9/site-packages/IPython/core/interactiveshell.py:3441: FutureWarning: The error_bad_lines argument has been deprecated and will be removed in a future version.\n",
      "\n",
      "\n",
      "  exec(code_obj, self.user_global_ns, self.user_ns)\n",
      "/home/sl1471/anaconda3/envs/bmrl/lib/python3.9/site-packages/IPython/core/interactiveshell.py:3441: DtypeWarning: Columns (3) have mixed types.Specify dtype option on import or set low_memory=False.\n",
      "  exec(code_obj, self.user_global_ns, self.user_ns)\n"
     ]
    }
   ],
   "source": [
    "import pandas as pd\n",
    "item_meta = pd.read_table(data_path + \"BX-Books.csv\", sep=\";\", encoding_errors='ignore', error_bad_lines=False,\n",
    "                          header = 0, usecols = [0,3,4], names = [\"ItemID\", \"Year\", \"Publisher\"])"
   ]
  },
  {
   "cell_type": "code",
   "execution_count": 8,
   "id": "a52bd305",
   "metadata": {},
   "outputs": [
    {
     "name": "stdout",
     "output_type": "stream",
     "text": [
      "271379\n",
      "--> 11752\n"
     ]
    }
   ],
   "source": [
    "def filter_items(item_meta, items):\n",
    "    selected_rows = [False] * len(item_meta)\n",
    "    all_meta_items = item_meta[\"ItemID\"].unique()\n",
    "    for i,uid in enumerate(all_meta_items):\n",
    "        if uid in items:\n",
    "            selected_rows[i] = True\n",
    "    return item_meta[selected_rows]\n",
    "print(len(item_meta))\n",
    "item_meta = filter_items(item_meta, {uid: i for i,uid in enumerate(multicore_data[\"ItemID\"].unique())})\n",
    "print(\"-->\",len(item_meta))"
   ]
  },
  {
   "cell_type": "code",
   "execution_count": 9,
   "id": "91a4ddf9",
   "metadata": {},
   "outputs": [
    {
     "name": "stdout",
     "output_type": "stream",
     "text": [
      "N-core is set to [5,100]\n",
      "Filtering (20,10)-core data\n",
      "Iteration 1\n"
     ]
    },
    {
     "name": "stderr",
     "output_type": "stream",
     "text": [
      "100%|██████████| 312353/312353 [00:00<00:00, 700525.27it/s]\n"
     ]
    },
    {
     "name": "stdout",
     "output_type": "stream",
     "text": [
      "Number of removed record: 1451\n",
      "Iteration 2\n"
     ]
    },
    {
     "name": "stderr",
     "output_type": "stream",
     "text": [
      "100%|██████████| 310902/310902 [00:00<00:00, 1002950.74it/s]\n"
     ]
    },
    {
     "name": "stdout",
     "output_type": "stream",
     "text": [
      "Number of removed record: 474\n",
      "Iteration 3\n"
     ]
    },
    {
     "name": "stderr",
     "output_type": "stream",
     "text": [
      "100%|██████████| 310428/310428 [00:00<00:00, 1020834.43it/s]\n"
     ]
    },
    {
     "name": "stdout",
     "output_type": "stream",
     "text": [
      "Number of removed record: 66\n",
      "Iteration 4\n"
     ]
    },
    {
     "name": "stderr",
     "output_type": "stream",
     "text": [
      "100%|██████████| 310362/310362 [00:00<00:00, 955807.58it/s]\n"
     ]
    },
    {
     "name": "stdout",
     "output_type": "stream",
     "text": [
      "Number of removed record: 0\n",
      "Size change: 312353 --> 310362\n"
     ]
    }
   ],
   "source": [
    "selected_rows = [True] * len(multicore_data)\n",
    "filtered_items = {iid: i for i,iid in enumerate(item_meta[\"ItemID\"])}\n",
    "for i,iid in enumerate(multicore_data[\"ItemID\"]):\n",
    "    if iid not in filtered_items:\n",
    "        selected_rows[i] = False\n",
    "multicore_data = multicore_data[selected_rows]\n",
    "multicore_data = run_multicore_asymetric(multicore_data, user_core, item_core)"
   ]
  },
  {
   "cell_type": "code",
   "execution_count": 10,
   "id": "d2677782",
   "metadata": {},
   "outputs": [
    {
     "name": "stdout",
     "output_type": "stream",
     "text": [
      "#user: 3500\n",
      "#item: 11680\n",
      "#record: 310362\n",
      "sparsity: 0.9924079745596869\n"
     ]
    }
   ],
   "source": [
    "n_user, n_item = len(multicore_data.UserID.unique()), len(multicore_data.ItemID.unique())\n",
    "print(f\"#user: {n_user}\")\n",
    "print(f\"#item: {n_item}\")\n",
    "print(f\"#record: {len(multicore_data)}\")\n",
    "print(f\"sparsity: {1.0 - len(multicore_data) / (n_user * n_item)}\")"
   ]
  },
  {
   "cell_type": "code",
   "execution_count": 11,
   "id": "348ed1bc",
   "metadata": {
    "scrolled": true
   },
   "outputs": [
    {
     "name": "stdout",
     "output_type": "stream",
     "text": [
      "Build user history\n"
     ]
    },
    {
     "name": "stderr",
     "output_type": "stream",
     "text": [
      "310362it [00:00, 376309.12it/s]\n"
     ]
    },
    {
     "name": "stdout",
     "output_type": "stream",
     "text": [
      "Holdout user histories\n"
     ]
    },
    {
     "name": "stderr",
     "output_type": "stream",
     "text": [
      "100%|██████████| 3500/3500 [00:00<00:00, 6920.00it/s]\n"
     ]
    },
    {
     "name": "stdout",
     "output_type": "stream",
     "text": [
      "Move unseen ItemID from val to train\n",
      "0/29576, finish in 997782707.2s.   \r",
      "Moving user data\n",
      "Before moving: Target DataFrame: 251210, Source Data Frame: 29576\n"
     ]
    },
    {
     "name": "stderr",
     "output_type": "stream",
     "text": [
      "100%|██████████| 1060/1060 [00:00<00:00, 5232.48it/s]\n",
      "100%|██████████| 2440/2440 [00:00<00:00, 4366.94it/s]\n"
     ]
    },
    {
     "name": "stdout",
     "output_type": "stream",
     "text": [
      "\n",
      "#user moved: 1060\n",
      "After moving: Target DataFrame: 264519, Source Data Frame: 16267\n",
      "Move unseen ItemID from test to train, this may also move users in val to train\n",
      "0/29576, finish in 765789413.5s.   \r",
      "Val --> Train\n",
      "Moving user data\n",
      "Before moving: Target DataFrame: 264519, Source Data Frame: 16267\n"
     ]
    },
    {
     "name": "stderr",
     "output_type": "stream",
     "text": [
      "100%|██████████| 1948/1948 [00:00<00:00, 11594.17it/s]\n",
      "100%|██████████| 1352/1352 [00:00<00:00, 5474.48it/s]\n"
     ]
    },
    {
     "name": "stdout",
     "output_type": "stream",
     "text": [
      "\n",
      "#user moved: 1948\n",
      "After moving: Target DataFrame: 275824, Source Data Frame: 4962\n",
      "Test --> Train\n",
      "Moving user data\n",
      "Before moving: Target DataFrame: 275824, Source Data Frame: 29576\n"
     ]
    },
    {
     "name": "stderr",
     "output_type": "stream",
     "text": [
      "100%|██████████| 1948/1948 [00:00<00:00, 5528.94it/s]\n",
      "100%|██████████| 1552/1552 [00:00<00:00, 4307.08it/s]"
     ]
    },
    {
     "name": "stdout",
     "output_type": "stream",
     "text": [
      "\n",
      "#user moved: 1948\n",
      "After moving: Target DataFrame: 299653, Source Data Frame: 5747\n"
     ]
    },
    {
     "name": "stderr",
     "output_type": "stream",
     "text": [
      "\n"
     ]
    }
   ],
   "source": [
    "from utils import set_random_seed\n",
    "set_random_seed(9)\n",
    "from data.preprocess import holdout_data_sequential, recheck_exist\n",
    "trainset, valset, testset = holdout_data_sequential(multicore_data, holdout_type = \"warm\", ratio = [0.8,0.1,0.1])\n",
    "trainset = trainset.reset_index(drop = True)\n",
    "valset = valset.reset_index(drop = True)\n",
    "testset = testset.reset_index(drop = True)\n",
    "# recheck if there is any unseen item in val or test, if there is move corresponding user history into train\n",
    "trainset, valset, testset = recheck_exist(trainset, valset, testset, field_name = \"ItemID\")"
   ]
  },
  {
   "cell_type": "code",
   "execution_count": 12,
   "id": "4284166b",
   "metadata": {},
   "outputs": [
    {
     "name": "stdout",
     "output_type": "stream",
     "text": [
      "error when creating \"\"\n",
      "dir \"/home\" existed\n",
      "dir \"/home/sl1471\" existed\n",
      "dir \"/home/sl1471/workspace\" existed\n",
      "dir \"/home/sl1471/workspace/experiments\" existed\n",
      "dir \"/home/sl1471/workspace/experiments/BX\" existed\n",
      "dir \"/home/sl1471/workspace/experiments/BX/tsv_data\" existed\n",
      "dir \"/home/sl1471/workspace/experiments/BX/tsv_data/\" existed\n"
     ]
    }
   ],
   "source": [
    "from utils import setup_path\n",
    "save_path = target_path + \"tsv_data/\"\n",
    "setup_path(save_path, is_dir = True)\n",
    "trainset.to_csv(save_path + \"train.tsv\", sep = '\\t', index = False)\n",
    "valset.to_csv(save_path + \"val.tsv\", sep = '\\t', index = False)\n",
    "testset.to_csv(save_path + \"test.tsv\", sep = '\\t', index = False)"
   ]
  },
  {
   "cell_type": "code",
   "execution_count": 13,
   "id": "5b32db8c",
   "metadata": {},
   "outputs": [
    {
     "data": {
      "text/plain": [
       "(3500, 1352, 1552)"
      ]
     },
     "execution_count": 13,
     "metadata": {},
     "output_type": "execute_result"
    }
   ],
   "source": [
    "len(trainset[\"UserID\"].unique()), len(valset[\"UserID\"].unique()), len(testset[\"UserID\"].unique())"
   ]
  },
  {
   "cell_type": "code",
   "execution_count": 14,
   "id": "38231b7d",
   "metadata": {},
   "outputs": [
    {
     "data": {
      "text/plain": [
       "(11680, 2113, 1961)"
      ]
     },
     "execution_count": 14,
     "metadata": {},
     "output_type": "execute_result"
    }
   ],
   "source": [
    "len(trainset[\"ItemID\"].unique()), len(valset[\"ItemID\"].unique()), len(testset[\"ItemID\"].unique())"
   ]
  },
  {
   "cell_type": "code",
   "execution_count": 15,
   "id": "33c938e7",
   "metadata": {},
   "outputs": [
    {
     "data": {
      "text/plain": [
       "(299653, 4962, 5747)"
      ]
     },
     "execution_count": 15,
     "metadata": {},
     "output_type": "execute_result"
    }
   ],
   "source": [
    "len(trainset), len(valset), len(testset)"
   ]
  },
  {
   "cell_type": "markdown",
   "id": "c885fb72",
   "metadata": {},
   "source": [
    "## User Meta"
   ]
  },
  {
   "cell_type": "code",
   "execution_count": 16,
   "id": "58a2d306",
   "metadata": {},
   "outputs": [],
   "source": [
    "import pandas as pd\n",
    "user_meta = pd.read_table(data_path + \"BX-Users.csv\", sep=\";\", encoding_errors='ignore', header = 0, names = [\"UserID\", \"Location\", \"Age\"])"
   ]
  },
  {
   "cell_type": "code",
   "execution_count": 17,
   "id": "d9cc16f9",
   "metadata": {},
   "outputs": [
    {
     "data": {
      "text/html": [
       "<div>\n",
       "<style scoped>\n",
       "    .dataframe tbody tr th:only-of-type {\n",
       "        vertical-align: middle;\n",
       "    }\n",
       "\n",
       "    .dataframe tbody tr th {\n",
       "        vertical-align: top;\n",
       "    }\n",
       "\n",
       "    .dataframe thead th {\n",
       "        text-align: right;\n",
       "    }\n",
       "</style>\n",
       "<table border=\"1\" class=\"dataframe\">\n",
       "  <thead>\n",
       "    <tr style=\"text-align: right;\">\n",
       "      <th></th>\n",
       "      <th>UserID</th>\n",
       "      <th>Location</th>\n",
       "      <th>Age</th>\n",
       "    </tr>\n",
       "  </thead>\n",
       "  <tbody>\n",
       "    <tr>\n",
       "      <th>0</th>\n",
       "      <td>1</td>\n",
       "      <td>nyc, new york, usa</td>\n",
       "      <td>-1.0</td>\n",
       "    </tr>\n",
       "    <tr>\n",
       "      <th>1</th>\n",
       "      <td>2</td>\n",
       "      <td>stockton, california, usa</td>\n",
       "      <td>18.0</td>\n",
       "    </tr>\n",
       "    <tr>\n",
       "      <th>2</th>\n",
       "      <td>3</td>\n",
       "      <td>moscow, yukon territory, russia</td>\n",
       "      <td>-1.0</td>\n",
       "    </tr>\n",
       "    <tr>\n",
       "      <th>3</th>\n",
       "      <td>4</td>\n",
       "      <td>porto, v.n.gaia, portugal</td>\n",
       "      <td>17.0</td>\n",
       "    </tr>\n",
       "    <tr>\n",
       "      <th>4</th>\n",
       "      <td>5</td>\n",
       "      <td>farnborough, hants, united kingdom</td>\n",
       "      <td>-1.0</td>\n",
       "    </tr>\n",
       "  </tbody>\n",
       "</table>\n",
       "</div>"
      ],
      "text/plain": [
       "   UserID                            Location   Age\n",
       "0       1                  nyc, new york, usa  -1.0\n",
       "1       2           stockton, california, usa  18.0\n",
       "2       3     moscow, yukon territory, russia  -1.0\n",
       "3       4           porto, v.n.gaia, portugal  17.0\n",
       "4       5  farnborough, hants, united kingdom  -1.0"
      ]
     },
     "execution_count": 17,
     "metadata": {},
     "output_type": "execute_result"
    }
   ],
   "source": [
    "import numpy as np\n",
    "user_meta = user_meta.fillna(-1)\n",
    "user_meta.replace(np.nan, 0)\n",
    "user_meta[:5]"
   ]
  },
  {
   "cell_type": "code",
   "execution_count": 18,
   "id": "ec382aba",
   "metadata": {},
   "outputs": [
    {
     "data": {
      "text/html": [
       "<div>\n",
       "<style scoped>\n",
       "    .dataframe tbody tr th:only-of-type {\n",
       "        vertical-align: middle;\n",
       "    }\n",
       "\n",
       "    .dataframe tbody tr th {\n",
       "        vertical-align: top;\n",
       "    }\n",
       "\n",
       "    .dataframe thead th {\n",
       "        text-align: right;\n",
       "    }\n",
       "</style>\n",
       "<table border=\"1\" class=\"dataframe\">\n",
       "  <thead>\n",
       "    <tr style=\"text-align: right;\">\n",
       "      <th></th>\n",
       "      <th>UserID</th>\n",
       "      <th>Location</th>\n",
       "      <th>AgeGroup</th>\n",
       "    </tr>\n",
       "  </thead>\n",
       "  <tbody>\n",
       "    <tr>\n",
       "      <th>0</th>\n",
       "      <td>1</td>\n",
       "      <td>nyc, new york, usa</td>\n",
       "      <td>-1</td>\n",
       "    </tr>\n",
       "    <tr>\n",
       "      <th>1</th>\n",
       "      <td>2</td>\n",
       "      <td>stockton, california, usa</td>\n",
       "      <td>0</td>\n",
       "    </tr>\n",
       "    <tr>\n",
       "      <th>2</th>\n",
       "      <td>3</td>\n",
       "      <td>moscow, yukon territory, russia</td>\n",
       "      <td>-1</td>\n",
       "    </tr>\n",
       "    <tr>\n",
       "      <th>3</th>\n",
       "      <td>4</td>\n",
       "      <td>porto, v.n.gaia, portugal</td>\n",
       "      <td>0</td>\n",
       "    </tr>\n",
       "    <tr>\n",
       "      <th>4</th>\n",
       "      <td>5</td>\n",
       "      <td>farnborough, hants, united kingdom</td>\n",
       "      <td>-1</td>\n",
       "    </tr>\n",
       "  </tbody>\n",
       "</table>\n",
       "</div>"
      ],
      "text/plain": [
       "   UserID                            Location  AgeGroup\n",
       "0       1                  nyc, new york, usa        -1\n",
       "1       2           stockton, california, usa         0\n",
       "2       3     moscow, yukon territory, russia        -1\n",
       "3       4           porto, v.n.gaia, portugal         0\n",
       "4       5  farnborough, hants, united kingdom        -1"
      ]
     },
     "execution_count": 18,
     "metadata": {},
     "output_type": "execute_result"
    }
   ],
   "source": [
    "import numpy as np\n",
    "age_group = [int(age) // 20 if 0<age<60 else 6 if age>60 else -1 for age in user_meta[\"Age\"]]\n",
    "user_meta = user_meta.drop([\"Age\"], axis = 1)\n",
    "user_meta.insert(2, \"AgeGroup\", age_group)\n",
    "user_meta[:5]"
   ]
  },
  {
   "cell_type": "code",
   "execution_count": 19,
   "id": "60b65064",
   "metadata": {},
   "outputs": [
    {
     "data": {
      "text/html": [
       "<div>\n",
       "<style scoped>\n",
       "    .dataframe tbody tr th:only-of-type {\n",
       "        vertical-align: middle;\n",
       "    }\n",
       "\n",
       "    .dataframe tbody tr th {\n",
       "        vertical-align: top;\n",
       "    }\n",
       "\n",
       "    .dataframe thead th {\n",
       "        text-align: right;\n",
       "    }\n",
       "</style>\n",
       "<table border=\"1\" class=\"dataframe\">\n",
       "  <thead>\n",
       "    <tr style=\"text-align: right;\">\n",
       "      <th></th>\n",
       "      <th>UserID</th>\n",
       "      <th>Location</th>\n",
       "      <th>AgeGroup</th>\n",
       "    </tr>\n",
       "  </thead>\n",
       "  <tbody>\n",
       "    <tr>\n",
       "      <th>0</th>\n",
       "      <td>1</td>\n",
       "      <td>usa</td>\n",
       "      <td>-1</td>\n",
       "    </tr>\n",
       "    <tr>\n",
       "      <th>1</th>\n",
       "      <td>2</td>\n",
       "      <td>usa</td>\n",
       "      <td>0</td>\n",
       "    </tr>\n",
       "    <tr>\n",
       "      <th>2</th>\n",
       "      <td>3</td>\n",
       "      <td>russia</td>\n",
       "      <td>-1</td>\n",
       "    </tr>\n",
       "    <tr>\n",
       "      <th>3</th>\n",
       "      <td>4</td>\n",
       "      <td>portugal</td>\n",
       "      <td>0</td>\n",
       "    </tr>\n",
       "    <tr>\n",
       "      <th>4</th>\n",
       "      <td>5</td>\n",
       "      <td>unitedkingdom</td>\n",
       "      <td>-1</td>\n",
       "    </tr>\n",
       "  </tbody>\n",
       "</table>\n",
       "</div>"
      ],
      "text/plain": [
       "   UserID       Location  AgeGroup\n",
       "0       1            usa        -1\n",
       "1       2            usa         0\n",
       "2       3         russia        -1\n",
       "3       4       portugal         0\n",
       "4       5  unitedkingdom        -1"
      ]
     },
     "execution_count": 19,
     "metadata": {},
     "output_type": "execute_result"
    }
   ],
   "source": [
    "locations = [loc.replace(' ','').split(',')[-1] for loc in user_meta[\"Location\"]]\n",
    "user_meta = user_meta.drop([\"Location\"], axis = 1)\n",
    "user_meta.insert(1, \"Location\", locations)\n",
    "user_meta[:5]"
   ]
  },
  {
   "cell_type": "code",
   "execution_count": 20,
   "id": "1004f84e",
   "metadata": {},
   "outputs": [],
   "source": [
    "def filter_users(user_meta, users):\n",
    "    selected_rows = [False] * len(user_meta)\n",
    "    all_meta_users = user_meta[\"UserID\"].unique()\n",
    "    for i,uid in enumerate(all_meta_users):\n",
    "        if uid in users:\n",
    "            selected_rows[i] = True\n",
    "    return user_meta[selected_rows]"
   ]
  },
  {
   "cell_type": "code",
   "execution_count": 21,
   "id": "8ae43ec7",
   "metadata": {},
   "outputs": [
    {
     "name": "stdout",
     "output_type": "stream",
     "text": [
      "278858\n",
      "--> 3500\n"
     ]
    }
   ],
   "source": [
    "print(len(user_meta))\n",
    "user_meta = filter_users(user_meta, {uid: i for i,uid in enumerate(multicore_data[\"UserID\"].unique())})\n",
    "print(\"-->\",len(user_meta))"
   ]
  },
  {
   "cell_type": "code",
   "execution_count": 22,
   "id": "7343fa8b",
   "metadata": {},
   "outputs": [
    {
     "name": "stdout",
     "output_type": "stream",
     "text": [
      "error when creating \"\"\n",
      "dir \"/home\" existed\n",
      "dir \"/home/sl1471\" existed\n",
      "dir \"/home/sl1471/workspace\" existed\n",
      "dir \"/home/sl1471/workspace/experiments\" existed\n",
      "dir \"/home/sl1471/workspace/experiments/BX\" existed\n",
      "dir \"/home/sl1471/workspace/experiments/BX/meta_data\" existed\n"
     ]
    }
   ],
   "source": [
    "from utils import setup_path\n",
    "save_path = target_path + \"meta_data/user.meta\"\n",
    "setup_path(save_path, is_dir = False)\n",
    "user_meta.to_csv(save_path, sep = '\\t', index = False)"
   ]
  },
  {
   "cell_type": "code",
   "execution_count": 23,
   "id": "d720e59f",
   "metadata": {},
   "outputs": [
    {
     "name": "stdout",
     "output_type": "stream",
     "text": [
      "error when creating \"\"\n",
      "dir \"/home\" existed\n",
      "dir \"/home/sl1471\" existed\n",
      "dir \"/home/sl1471/workspace\" existed\n",
      "dir \"/home/sl1471/workspace/experiments\" existed\n",
      "dir \"/home/sl1471/workspace/experiments/BX\" existed\n",
      "dir \"/home/sl1471/workspace/experiments/BX/meta_data\" existed\n",
      "Vocab file saved to: /home/sl1471/workspace/experiments/BX/meta_data/user_fields.vocab\n"
     ]
    }
   ],
   "source": [
    "from data.preprocess import build_vocab\n",
    "from utils import setup_path\n",
    "save_path = target_path + \"meta_data/user_fields.vocab\"\n",
    "setup_path(save_path, is_dir = False)\n",
    "build_vocab(user_meta, save_path, [\"UserID\", \"Location\", \"AgeGroup\"])"
   ]
  },
  {
   "cell_type": "code",
   "execution_count": 24,
   "id": "01f87f1b",
   "metadata": {},
   "outputs": [],
   "source": [
    "import pandas as pd\n",
    "user_fields_meta = pd.DataFrame({\"field_name\": [\"UserID\", \"Location\", \"AgeGroup\"], \n",
    "                                 \"field_type\": [\"nominal\", \"nominal\", \"nominal\"], \n",
    "                                 \"value_type\": [\"int\", \"str\", \"int\"], \n",
    "                                 \"field_enc\": [\"v2id\", \"v2onehot\", \"v2id\"]})\n",
    "user_fields_meta.to_csv(target_path + \"meta_data/user_fields.meta\", \n",
    "                        sep = '\\t', index = False)"
   ]
  },
  {
   "cell_type": "markdown",
   "id": "e44cd76d",
   "metadata": {},
   "source": [
    "## Item Features"
   ]
  },
  {
   "cell_type": "code",
   "execution_count": 25,
   "id": "4d072c5b",
   "metadata": {
    "scrolled": true
   },
   "outputs": [
    {
     "name": "stderr",
     "output_type": "stream",
     "text": [
      "/home/sl1471/anaconda3/envs/bmrl/lib/python3.9/site-packages/IPython/core/interactiveshell.py:3441: FutureWarning: The error_bad_lines argument has been deprecated and will be removed in a future version.\n",
      "\n",
      "\n",
      "  exec(code_obj, self.user_global_ns, self.user_ns)\n",
      "/home/sl1471/anaconda3/envs/bmrl/lib/python3.9/site-packages/IPython/core/interactiveshell.py:3441: DtypeWarning: Columns (3) have mixed types.Specify dtype option on import or set low_memory=False.\n",
      "  exec(code_obj, self.user_global_ns, self.user_ns)\n"
     ]
    }
   ],
   "source": [
    "import pandas as pd\n",
    "item_meta = pd.read_table(data_path + \"BX-Books.csv\", sep=\";\", encoding_errors='ignore', error_bad_lines=False,\n",
    "                          header = 0, usecols = [0,3,4], names = [\"ItemID\", \"Year\", \"Publisher\"])"
   ]
  },
  {
   "cell_type": "code",
   "execution_count": 26,
   "id": "d1e7baf7",
   "metadata": {},
   "outputs": [
    {
     "data": {
      "text/html": [
       "<div>\n",
       "<style scoped>\n",
       "    .dataframe tbody tr th:only-of-type {\n",
       "        vertical-align: middle;\n",
       "    }\n",
       "\n",
       "    .dataframe tbody tr th {\n",
       "        vertical-align: top;\n",
       "    }\n",
       "\n",
       "    .dataframe thead th {\n",
       "        text-align: right;\n",
       "    }\n",
       "</style>\n",
       "<table border=\"1\" class=\"dataframe\">\n",
       "  <thead>\n",
       "    <tr style=\"text-align: right;\">\n",
       "      <th></th>\n",
       "      <th>ItemID</th>\n",
       "      <th>Year</th>\n",
       "      <th>Publisher</th>\n",
       "    </tr>\n",
       "  </thead>\n",
       "  <tbody>\n",
       "    <tr>\n",
       "      <th>0</th>\n",
       "      <td>0195153448</td>\n",
       "      <td>2002</td>\n",
       "      <td>Oxford University Press</td>\n",
       "    </tr>\n",
       "    <tr>\n",
       "      <th>1</th>\n",
       "      <td>0002005018</td>\n",
       "      <td>2001</td>\n",
       "      <td>HarperFlamingo Canada</td>\n",
       "    </tr>\n",
       "    <tr>\n",
       "      <th>2</th>\n",
       "      <td>0060973129</td>\n",
       "      <td>1991</td>\n",
       "      <td>HarperPerennial</td>\n",
       "    </tr>\n",
       "    <tr>\n",
       "      <th>3</th>\n",
       "      <td>0374157065</td>\n",
       "      <td>1999</td>\n",
       "      <td>Farrar Straus Giroux</td>\n",
       "    </tr>\n",
       "    <tr>\n",
       "      <th>4</th>\n",
       "      <td>0393045218</td>\n",
       "      <td>1999</td>\n",
       "      <td>W. W. Norton &amp;amp; Company</td>\n",
       "    </tr>\n",
       "  </tbody>\n",
       "</table>\n",
       "</div>"
      ],
      "text/plain": [
       "       ItemID  Year                   Publisher\n",
       "0  0195153448  2002     Oxford University Press\n",
       "1  0002005018  2001       HarperFlamingo Canada\n",
       "2  0060973129  1991             HarperPerennial\n",
       "3  0374157065  1999        Farrar Straus Giroux\n",
       "4  0393045218  1999  W. W. Norton &amp; Company"
      ]
     },
     "execution_count": 26,
     "metadata": {},
     "output_type": "execute_result"
    }
   ],
   "source": [
    "item_meta[:5]"
   ]
  },
  {
   "cell_type": "code",
   "execution_count": 27,
   "id": "f8792c6d",
   "metadata": {},
   "outputs": [
    {
     "name": "stdout",
     "output_type": "stream",
     "text": [
      "11680 11680\n"
     ]
    }
   ],
   "source": [
    "item_meta = filter_items(item_meta, {iid: i for i,iid in enumerate(multicore_data[\"ItemID\"].unique())})\n",
    "print(len(item_meta), len(multicore_data[\"ItemID\"].unique()))"
   ]
  },
  {
   "cell_type": "code",
   "execution_count": 28,
   "id": "7a04ecc7",
   "metadata": {},
   "outputs": [],
   "source": [
    "for i,row in enumerate(item_meta[\"Year\"]):\n",
    "    if \"ROBERT\" in row:\n",
    "        print(item_meta.iloc[i])\n",
    "        item_meta[\"Publisher\"].iloc[i], item_meta[\"Year\"].iloc[i] = item_meta[\"Year\"].iloc[i], item_meta[\"Publisher\"].iloc[i]\n",
    "        print(item_meta.iloc[i])\n",
    "        break"
   ]
  },
  {
   "cell_type": "code",
   "execution_count": 29,
   "id": "b2ccb6bc",
   "metadata": {},
   "outputs": [
    {
     "name": "stdout",
     "output_type": "stream",
     "text": [
      "error when creating \"\"\n",
      "dir \"/home\" existed\n",
      "dir \"/home/sl1471\" existed\n",
      "dir \"/home/sl1471/workspace\" existed\n",
      "dir \"/home/sl1471/workspace/experiments\" existed\n",
      "dir \"/home/sl1471/workspace/experiments/BX\" existed\n",
      "dir \"/home/sl1471/workspace/experiments/BX/meta_data\" existed\n"
     ]
    }
   ],
   "source": [
    "from utils import setup_path\n",
    "save_path = target_path + \"meta_data/item.meta\"\n",
    "setup_path(save_path, is_dir = False)\n",
    "item_meta.to_csv(save_path, sep = '\\t', index = False)"
   ]
  },
  {
   "cell_type": "code",
   "execution_count": 30,
   "id": "25f7bdb7",
   "metadata": {},
   "outputs": [
    {
     "name": "stdout",
     "output_type": "stream",
     "text": [
      "error when creating \"\"\n",
      "dir \"/home\" existed\n",
      "dir \"/home/sl1471\" existed\n",
      "dir \"/home/sl1471/workspace\" existed\n",
      "dir \"/home/sl1471/workspace/experiments\" existed\n",
      "dir \"/home/sl1471/workspace/experiments/BX\" existed\n",
      "dir \"/home/sl1471/workspace/experiments/BX/meta_data\" existed\n",
      "Vocab file saved to: /home/sl1471/workspace/experiments/BX/meta_data/item_fields.vocab\n"
     ]
    }
   ],
   "source": [
    "from data.preprocess import build_vocab\n",
    "from utils import setup_path\n",
    "save_path = target_path + \"meta_data/item_fields.vocab\"\n",
    "setup_path(save_path, is_dir = False)\n",
    "build_vocab(item_meta, save_path, [\"ItemID\", \"Year\", \"Publisher\"])"
   ]
  },
  {
   "cell_type": "code",
   "execution_count": 31,
   "id": "81871736",
   "metadata": {},
   "outputs": [],
   "source": [
    "import pandas as pd\n",
    "item_fields_meta = pd.DataFrame({\"field_name\": [\"ItemID\", \"Year\", \"Publisher\"], \n",
    "                                 \"field_type\": [\"nominal\", \"ordinal\", \"nominal\"], \n",
    "                                 \"value_type\": [\"str\", \"int\", \"str\"], \n",
    "                                 \"field_enc\": [\"v2id\", \"v2id\", \"v2id\"]})\n",
    "item_fields_meta.to_csv(target_path + \"meta_data/item_fields.meta\", \n",
    "                        sep = '\\t', index = False)"
   ]
  },
  {
   "cell_type": "code",
   "execution_count": null,
   "id": "7e9c19f4",
   "metadata": {},
   "outputs": [],
   "source": []
  },
  {
   "cell_type": "code",
   "execution_count": null,
   "id": "07cdfe1d",
   "metadata": {},
   "outputs": [],
   "source": []
  }
 ],
 "metadata": {
  "kernelspec": {
   "display_name": "BMRL",
   "language": "python",
   "name": "bmrl"
  },
  "language_info": {
   "codemirror_mode": {
    "name": "ipython",
    "version": 3
   },
   "file_extension": ".py",
   "mimetype": "text/x-python",
   "name": "python",
   "nbconvert_exporter": "python",
   "pygments_lexer": "ipython3",
   "version": "3.9.6"
  }
 },
 "nbformat": 4,
 "nbformat_minor": 5
}
