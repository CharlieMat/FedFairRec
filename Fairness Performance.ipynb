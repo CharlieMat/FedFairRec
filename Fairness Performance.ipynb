{
 "cells": [
  {
   "cell_type": "code",
   "execution_count": 23,
   "metadata": {},
   "outputs": [],
   "source": []
  },
  {
   "cell_type": "code",
   "execution_count": 13,
   "metadata": {},
   "outputs": [],
   "source": [
    "import os,sys,inspect\n",
    "currentdir = os.path.dirname(os.path.abspath(inspect.getfile(inspect.currentframe())))\n",
    "parentdir = os.path.dirname(currentdir)\n",
    "sys.path.insert(0,parentdir)\n",
    "\n",
    "import argparse\n",
    "from argparse import Namespace\n",
    "\n",
    "def read_line_number(file_path, line_num):\n",
    "    with open(file_path, 'r') as fin:\n",
    "        for i,line in enumerate(fin):\n",
    "            if i == line_num:\n",
    "                return line.strip()\n",
    "    return \"\"\n",
    "\n",
    "def extract_args(log_path):\n",
    "    print(log_path)\n",
    "    argstr = read_line_number(log_path, 1)\n",
    "    if 'fair_lambda' not in argstr:\n",
    "        argstr = argstr[:-1] + ', fair_lambda=0.1)'\n",
    "    if 'fair_rho' not in argstr:\n",
    "        argstr = argstr[:-1] + ', fair_rho=1)'\n",
    "    if 'fair_group_feature' not in argstr:\n",
    "        argstr = argstr[:-1] + f\", fair_group_feature='{group_feature}')\"\n",
    "    args = eval(argstr)\n",
    "    return args"
   ]
  },
  {
   "cell_type": "code",
   "execution_count": 14,
   "metadata": {},
   "outputs": [],
   "source": [
    "from reader.BaseReader import worker_init_func\n",
    "from task.TopK import init_ranking_report, calculate_ranking_metric\n",
    "\n",
    "def get_userwise_group(model, group_feature, fairness_control):\n",
    "    eval_data = model.reader.get_eval_dataset()\n",
    "    eval_loader = DataLoader(eval_data, worker_init_fn = worker_init_func,\n",
    "                             batch_size = 1, shuffle = False, pin_memory = False, \n",
    "                             num_workers = eval_data.n_worker)\n",
    "    user_groups = {}\n",
    "    with torch.no_grad():\n",
    "        for i, batch_data in enumerate(eval_loader):\n",
    "            # sample user with record in eval data\n",
    "            if \"no_item\" not in batch_data:\n",
    "                # predict\n",
    "                feed_dict = model.wrap_batch(batch_data)\n",
    "                uid = feed_dict[\"user_UserID\"].reshape(-1).detach().cpu().numpy()[0]\n",
    "                user_groups[uid] = fairness_control.group_dict[uid]\n",
    "    return user_groups\n",
    "\n",
    "def get_userwise_performance(model, at_k_list):\n",
    "    model.reader.set_phase('test')\n",
    "    eval_data = model.reader.get_eval_dataset()\n",
    "    eval_loader = DataLoader(eval_data, worker_init_fn = worker_init_func,\n",
    "                             batch_size = 1, shuffle = False, pin_memory = False, \n",
    "                             num_workers = eval_data.n_worker)\n",
    "    user_results = {}\n",
    "    with torch.no_grad():\n",
    "        for i, batch_data in enumerate(eval_loader):\n",
    "            # sample user with record in eval data\n",
    "            if \"no_item\" not in batch_data:\n",
    "                # predict\n",
    "                feed_dict = model.wrap_batch(batch_data)\n",
    "                out_dict = model.forward(feed_dict, return_prob = True)\n",
    "                pos_preds, neg_preds = out_dict[\"probs\"], out_dict[\"neg_probs\"]\n",
    "                if pos_preds.is_cuda:\n",
    "                    pos_preds = pos_preds.detach().cpu()\n",
    "                    neg_preds = neg_preds.detach().cpu()\n",
    "                # metrics\n",
    "                report = init_ranking_report(at_k_list)\n",
    "                calculate_ranking_metric(pos_preds.view(-1), neg_preds.view(-1), at_k_list, report)\n",
    "                uid = feed_dict[\"user_UserID\"].reshape(-1).detach().cpu().numpy()[0]\n",
    "                user_results[uid] = report\n",
    "    return user_results"
   ]
  },
  {
   "cell_type": "code",
   "execution_count": 15,
   "metadata": {},
   "outputs": [],
   "source": [
    "from reader.RecDataReader import RecDataReader\n",
    "from model.fair_rec.FairUserGroupPerformance import FairUserGroupPerformance\n",
    "from model.baselines import *\n",
    "from model.fed_rec import *\n",
    "import os\n",
    "import torch\n",
    "\n",
    "model_name_list = {'MF': 'MF', 'FedMF': 'FedMF', 'FairMF': 'MF', 'F2MF': 'FedMF'}\n",
    "device = -1\n",
    "if device >= 0 and torch.cuda.is_available():\n",
    "    os.environ[\"CUDA_VISIBLE_DEVICES\"] = str(device)\n",
    "    torch.cuda.set_device(device)\n",
    "    device = \"cuda:\" + str(device)\n",
    "else:\n",
    "    device = \"cpu\"\n",
    "params = {'at_k_list': [10,50], 'eval_sample_p': 1.0}"
   ]
  },
  {
   "cell_type": "markdown",
   "metadata": {},
   "source": [
    "## Do Fairness Evaluation"
   ]
  },
  {
   "cell_type": "code",
   "execution_count": 24,
   "metadata": {},
   "outputs": [],
   "source": [
    "group_feature = 'activity'\n",
    "# data_key = 'ml-1m'\n",
    "data_key = 'amz_Movies_and_TV'\n",
    "# data_key = 'amz_Books'\n",
    "ROOT=\"/home/sl1471/workspace/experiments/\"\n",
    "best_setting = {\n",
    "    'ml-1m': {\n",
    "        'MF': [\n",
    "            '/logs/f2rec_train_and_eval_MF_lr0.0001_reg0.1_losspairwisebpr.log'\n",
    "        ], \n",
    "        'FedMF': [\n",
    "            '/logs/f2rec_train_and_eval_FedMF_lr0.003_reg0.1_losspairwisebpr_local1_fedavg.log'\n",
    "        ], \n",
    "        'FairMF': [\n",
    "            '/logs/f2rec_train_and_eval_FairMF_lr0.00003_reg0.1_losspairwisebpr_lambda-0.1_gactivity.log'\n",
    "            ,'/logs/f2rec_train_and_eval_FairMF_lr0.00003_reg0.1_losspairwisebpr_lambda0_gactivity.log'],\n",
    "        'F2MF': [\n",
    "#             '/logs/f2rec_train_and_eval_FairFedMF_lr0.0003_reg0.1_losspairwisebpr_lambda-0.1_sigma0_gactivity.log'\n",
    "        ]\n",
    "    },\n",
    "    'amz_Books': {\n",
    "        'MF': ['/logs/f2rec_train_and_eval_MF_lr0.00001_reg1.0_losspairwisebpr.log'], \n",
    "        'FedMF': [],\n",
    "        'FairMF': [],\n",
    "        'F2MF': []\n",
    "    },\n",
    "    'amz_Movies_and_TV': {\n",
    "        'MF': [\n",
    "            '/logs/f2rec_train_and_eval_MF_lr0.00003_reg1.0_losspairwisebpr.log'\n",
    "        ], \n",
    "        'FedMF': [\n",
    "            '/logs/f2rec_train_and_eval_FedMF_lr0.003_reg1.0_losspairwisebpr_local1_fedavg.log'\n",
    "        ], \n",
    "        'FairMF': [\n",
    "            '/logs/f2rec_train_and_eval_FairMF_lr0.00001_reg1.0_losspairwisebpr_lambda-0.1_gactivity.log'\n",
    "            ,'/logs/f2rec_train_and_eval_FairMF_lr0.00001_reg1.0_losspairwisebpr_lambda0_gactivity.log'\n",
    "            ,'/logs/f2rec_train_and_eval_FairMF_lr0.00001_reg1.0_losspairwisebpr_lambda0.1_gactivity.log'\n",
    "        ],\n",
    "        'F2MF': [\n",
    "#             '/logs/f2rec_train_and_eval_FairFedMF_lr0.0003_reg1.0_losspairwisebpr_lambda-0.1_sigma0_gactivity.log'\n",
    "#             ,'/logs/f2rec_train_and_eval_FairFedMF_lr0.003_reg1.0_losspairwisebpr_lambda0_sigma0.3_gactivity.log'\n",
    "        ]\n",
    "    }\n",
    "}"
   ]
  },
  {
   "cell_type": "code",
   "execution_count": null,
   "metadata": {
    "scrolled": true
   },
   "outputs": [
    {
     "name": "stdout",
     "output_type": "stream",
     "text": [
      "/home/sl1471/workspace/experiments/amz_Movies_and_TV/logs/f2rec_train_and_eval_MF_lr0.00003_reg1.0_losspairwisebpr.log\n",
      "Namespace(cuda=3, seed=19, train=False, train_and_eval=True, continuous_train=False, eval=False, model_path='/home/sl1471/workspace/experiments/amz_Movies_and_TV/models/f2rec_MF_lr0.00003_reg1.0_pairwisebpr.pkl', loss='pairwisebpr', l2_coef=1.0, emb_size=32, data_file='/home/sl1471/workspace/experiments/amz_Movies_and_TV/tsv_data/', n_worker=4, user_meta_data='/home/sl1471/workspace/experiments/amz_Movies_and_TV/meta_data/user.meta', item_meta_data='/home/sl1471/workspace/experiments/amz_Movies_and_TV/meta_data/item.meta', user_fields_meta_file='/home/sl1471/workspace/experiments/amz_Movies_and_TV/meta_data/user_fields.meta', item_fields_meta_file='/home/sl1471/workspace/experiments/amz_Movies_and_TV/meta_data/item_fields.meta', user_fields_vocab_file='/home/sl1471/workspace/experiments/amz_Movies_and_TV/meta_data/user_fields.vocab', item_fields_vocab_file='/home/sl1471/workspace/experiments/amz_Movies_and_TV/meta_data/item_fields.vocab', n_neg=1, n_neg_val=100, n_neg_test=-1, n_round=3, optimizer='Adam', epoch=30, check_epoch=1, lr=3e-05, batch_size=1024, eval_batch_size=1, temper=6, with_val=True, val_sample_p=1.0, test_sample_p=1.0, stop_metric='_AUC', pin_memory=False, at_k=[1, 5, 10, 20, 50], n_eval_process=1, fair_lambda=0.1, fair_rho=1, fair_group_feature='activity')\n",
      "Loading train data file. Done.\n",
      "Loading val data file. Done.\n",
      "Loading test data file. Done.\n",
      "           UserID      ItemID  Response   Timestamp\n",
      "0  A100WO06OQR8BQ  B005NKIPWC       3.0  1382140800\n",
      "1  A100WO06OQR8BQ  079284209X       1.0  1383436800\n",
      "2  A100WO06OQR8BQ  B00151QYE4       1.0  1384905600\n",
      "3  A100WO06OQR8BQ  B00151QYE4       1.0  1384905600\n",
      "4  A100WO06OQR8BQ  B00EK6RM92       5.0  1386460800\n",
      "Load field meta and vocab file.\n",
      "Load vocab from : /home/sl1471/workspace/experiments/amz_Movies_and_TV/meta_data/user_fields.vocab\n",
      "User fields: ['UserID']\n",
      "Load vocab from : /home/sl1471/workspace/experiments/amz_Movies_and_TV/meta_data/item_fields.vocab\n",
      "Item fields: ['ItemID', 'Category', 'MinPrice', 'MaxPrice', 'Brand']\n",
      "Appending history info\n",
      "Buffer negative training and validation samples\n"
     ]
    },
    {
     "name": "stderr",
     "output_type": "stream",
     "text": [
      "100%|██████████| 5498/5498 [00:27<00:00, 200.40it/s]\n"
     ]
    },
    {
     "name": "stdout",
     "output_type": "stream",
     "text": [
      "user activity: 1335(A) -- 4163(I), threshold (71.07984721716988)\n",
      "embedding: tensor([[-0.0531,  0.0071,  0.0251,  ...,  0.0064,  0.0111,  0.0020],\n",
      "        [ 0.0069,  0.0349,  0.0108,  ...,  0.0102,  0.0196, -0.0172],\n",
      "        [ 0.0040,  0.0514, -0.0206,  ...,  0.0171,  0.0199,  0.0376],\n",
      "        ...,\n",
      "        [-0.0071, -0.0029,  0.0302,  ...,  0.0150,  0.0215, -0.0283],\n",
      "        [-0.0174, -0.0003, -0.0002,  ..., -0.0127,  0.0173,  0.0276],\n",
      "        [-0.0195, -0.0424,  0.0297,  ...,  0.0063, -0.0050,  0.0088]])\n",
      "embedding: tensor([[ 0.0097, -0.0027, -0.0244,  ...,  0.0003,  0.0164,  0.0043],\n",
      "        [-0.0109,  0.0049, -0.0028,  ...,  0.0285,  0.0175,  0.0070],\n",
      "        [ 0.0114,  0.0071, -0.0110,  ..., -0.0011,  0.0084,  0.0078],\n",
      "        ...,\n",
      "        [ 0.0115, -0.0108, -0.0302,  ..., -0.0117,  0.0297,  0.0041],\n",
      "        [ 0.0289, -0.0152,  0.0003,  ...,  0.0055,  0.0040,  0.0093],\n",
      "        [ 0.0091,  0.0064,  0.0085,  ...,  0.0164, -0.0215,  0.0057]])\n",
      "Load (checkpoint) from /home/sl1471/workspace/experiments/amz_Movies_and_TV/models/f2rec_MF_lr0.00003_reg1.0_pairwisebpr.pkl\n"
     ]
    },
    {
     "name": "stderr",
     "output_type": "stream",
     "text": [
      "100%|██████████| 5497/5497 [00:42<00:00, 128.81it/s]\n",
      "100%|██████████| 5497/5497 [00:42<00:00, 128.80it/s]\n",
      "100%|██████████| 5497/5497 [00:42<00:00, 128.31it/s]\n",
      "100%|██████████| 5497/5497 [00:42<00:00, 128.19it/s]\n",
      "100%|██████████| 5497/5497 [15:42<00:00,  5.84it/s]\n",
      "100%|██████████| 5497/5497 [15:42<00:00,  5.83it/s]\n",
      "100%|██████████| 5497/5497 [15:42<00:00,  5.83it/s]\n",
      "100%|██████████| 5497/5497 [15:42<00:00,  5.83it/s]\n"
     ]
    },
    {
     "name": "stdout",
     "output_type": "stream",
     "text": [
      "/home/sl1471/workspace/experiments/amz_Movies_and_TV/logs/f2rec_train_and_eval_FedMF_lr0.003_reg1.0_losspairwisebpr_local1_fedavg.log\n",
      "Namespace(cuda=3, seed=19, train=False, train_and_eval=True, continuous_train=False, eval=False, model_path='/home/sl1471/workspace/experiments/amz_Movies_and_TV/models/f2rec_FedMF_lr0.003_reg1.0_pairwisebpr_local1_fedavg.pkl', loss='pairwisebpr', l2_coef=1.0, emb_size=32, device_dropout_p=0.1, device_dropout_type='same', n_local_step=1, random_local_step=False, aggregation_func='fedavg', mitigation_trade_off=1.0, elastic_mu=0.01, data_file='/home/sl1471/workspace/experiments/amz_Movies_and_TV/tsv_data/', n_worker=4, user_meta_data='/home/sl1471/workspace/experiments/amz_Movies_and_TV/meta_data/user.meta', item_meta_data='/home/sl1471/workspace/experiments/amz_Movies_and_TV/meta_data/item.meta', user_fields_meta_file='/home/sl1471/workspace/experiments/amz_Movies_and_TV/meta_data/user_fields.meta', item_fields_meta_file='/home/sl1471/workspace/experiments/amz_Movies_and_TV/meta_data/item_fields.meta', user_fields_vocab_file='/home/sl1471/workspace/experiments/amz_Movies_and_TV/meta_data/user_fields.vocab', item_fields_vocab_file='/home/sl1471/workspace/experiments/amz_Movies_and_TV/meta_data/item_fields.vocab', n_neg=1, n_neg_val=100, n_neg_test=-1, n_round=1, optimizer='SGD', epoch=40, check_epoch=1, lr=0.003, batch_size=256, eval_batch_size=1, temper=6, with_val=True, val_sample_p=0.5, test_sample_p=1.0, stop_metric='_AUC', pin_memory=False, at_k=[1, 5, 10, 20, 50], n_eval_process=1, fair_lambda=0.1, fair_rho=1, fair_group_feature='activity')\n",
      "embedding: tensor([[ 0.0197,  0.0016, -0.0382,  ...,  0.0138,  0.0169, -0.0337],\n",
      "        [ 0.0171,  0.0120,  0.0149,  ..., -0.0132, -0.0054, -0.0041],\n",
      "        [ 0.0046, -0.0256,  0.0014,  ...,  0.0022,  0.0220, -0.0201],\n",
      "        ...,\n",
      "        [-0.0153, -0.0199,  0.0072,  ..., -0.0125,  0.0087, -0.0074],\n",
      "        [-0.0132, -0.0276,  0.0401,  ..., -0.0080,  0.0296, -0.0082],\n",
      "        [ 0.0187,  0.0105, -0.0189,  ...,  0.0145, -0.0246,  0.0042]])\n",
      "embedding: tensor([[-0.0210, -0.0137,  0.0103,  ..., -0.0074,  0.0011,  0.0083],\n",
      "        [ 0.0056, -0.0115,  0.0066,  ..., -0.0017,  0.0311,  0.0095],\n",
      "        [-0.0002,  0.0024, -0.0219,  ...,  0.0127,  0.0023, -0.0180],\n",
      "        ...,\n",
      "        [-0.0104,  0.0003, -0.0032,  ...,  0.0050, -0.0108, -0.0215],\n",
      "        [-0.0092, -0.0058, -0.0193,  ...,  0.0047,  0.0144, -0.0088],\n",
      "        [ 0.0074,  0.0027, -0.0055,  ...,  0.0019, -0.0041, -0.0109]])\n",
      "Load (checkpoint) from /home/sl1471/workspace/experiments/amz_Movies_and_TV/models/f2rec_FedMF_lr0.003_reg1.0_pairwisebpr_local1_fedavg.pkl\n"
     ]
    },
    {
     "name": "stderr",
     "output_type": "stream",
     "text": [
      "100%|██████████| 5497/5497 [15:49<00:00,  5.79it/s]\n",
      "100%|██████████| 5497/5497 [15:49<00:00,  5.79it/s]\n",
      "100%|██████████| 5497/5497 [15:49<00:00,  5.79it/s]\n",
      "100%|██████████| 5497/5497 [15:49<00:00,  5.79it/s]\n"
     ]
    },
    {
     "name": "stdout",
     "output_type": "stream",
     "text": [
      "/home/sl1471/workspace/experiments/amz_Movies_and_TV/logs/f2rec_train_and_eval_FairMF_lr0.00001_reg1.0_losspairwisebpr_lambda-0.1_gactivity.log\n",
      "Namespace(cuda=2, seed=19, train=False, train_and_eval=True, continuous_train=False, eval=False, model_path='/home/sl1471/workspace/experiments/amz_Movies_and_TV/models/f2rec_FairMF_lr0.00001_reg1.0_pairwisebpr_lambda-0.1_gactivity.pkl', loss='pairwisebpr', l2_coef=1.0, emb_size=32, data_file='/home/sl1471/workspace/experiments/amz_Movies_and_TV/tsv_data/', n_worker=4, user_meta_data='/home/sl1471/workspace/experiments/amz_Movies_and_TV/meta_data/user.meta', item_meta_data='/home/sl1471/workspace/experiments/amz_Movies_and_TV/meta_data/item.meta', user_fields_meta_file='/home/sl1471/workspace/experiments/amz_Movies_and_TV/meta_data/user_fields.meta', item_fields_meta_file='/home/sl1471/workspace/experiments/amz_Movies_and_TV/meta_data/item_fields.meta', user_fields_vocab_file='/home/sl1471/workspace/experiments/amz_Movies_and_TV/meta_data/user_fields.vocab', item_fields_vocab_file='/home/sl1471/workspace/experiments/amz_Movies_and_TV/meta_data/item_fields.vocab', n_neg=1, n_neg_val=100, n_neg_test=-1, n_round=1, optimizer='Adam', epoch=30, check_epoch=1, lr=1e-05, batch_size=256, eval_batch_size=1, temper=6, with_val=True, val_sample_p=1.0, test_sample_p=1.0, stop_metric='_NDCG@50', pin_memory=False, at_k=[1, 5, 10, 20, 50], n_eval_process=1, fair_lambda=-0.1, fair_rho=1, fair_group_feature='activity')\n",
      "embedding: tensor([[ 0.0155, -0.0073, -0.0044,  ..., -0.0192, -0.0060, -0.0197],\n",
      "        [ 0.0291,  0.0405, -0.0042,  ...,  0.0065, -0.0164,  0.0504],\n",
      "        [ 0.0206,  0.0029,  0.0100,  ..., -0.0040, -0.0077,  0.0089],\n",
      "        ...,\n",
      "        [ 0.0131, -0.0143,  0.0101,  ...,  0.0137,  0.0489, -0.0015],\n",
      "        [-0.0199,  0.0011,  0.0373,  ..., -0.0193, -0.0021,  0.0037],\n",
      "        [-0.0139,  0.0039,  0.0328,  ..., -0.0271, -0.0155, -0.0158]])\n",
      "embedding: tensor([[ 0.0019, -0.0132,  0.0095,  ..., -0.0169, -0.0031, -0.0080],\n",
      "        [ 0.0080,  0.0012, -0.0060,  ...,  0.0047, -0.0058, -0.0090],\n",
      "        [-0.0064, -0.0164, -0.0020,  ..., -0.0131, -0.0134,  0.0146],\n",
      "        ...,\n",
      "        [ 0.0031, -0.0389,  0.0056,  ..., -0.0071,  0.0149, -0.0017],\n",
      "        [ 0.0125, -0.0151, -0.0145,  ..., -0.0001,  0.0203,  0.0200],\n",
      "        [-0.0168,  0.0008,  0.0040,  ...,  0.0080, -0.0144,  0.0105]])\n",
      "Load (checkpoint) from /home/sl1471/workspace/experiments/amz_Movies_and_TV/models/f2rec_FairMF_lr0.00001_reg1.0_pairwisebpr_lambda-0.1_gactivity.pkl\n"
     ]
    },
    {
     "name": "stderr",
     "output_type": "stream",
     "text": [
      " 17%|█▋        | 929/5497 [02:46<15:01,  5.07it/s]"
     ]
    }
   ],
   "source": [
    "import os\n",
    "import datetime\n",
    "from torch.utils.data import DataLoader\n",
    "import torch\n",
    "import numpy as np\n",
    "\n",
    "metrics = ['F1@10','NDCG@10','F1@50','NDCG@50','AUC']\n",
    "# for data_key in data_key_list:\n",
    "result_file_path = ROOT + data_key + \"/results/fairness_\" + group_feature + \"_\" + datetime.datetime.now().strftime('%Y%m%d_%H%M%S') + \".csv\"\n",
    "with open(result_file_path, 'w') as fout:\n",
    "    count = 0\n",
    "    for modelName, modelDef in model_name_list.items():\n",
    "        log_path_list = best_setting[data_key][modelName]\n",
    "        for log_path in log_path_list:\n",
    "            # args\n",
    "            try:\n",
    "                args = extract_args(ROOT + data_key + log_path)\n",
    "                print(args)\n",
    "            except:\n",
    "                print('skip')\n",
    "                continue\n",
    "            # reader\n",
    "            if count == 0:\n",
    "                reader = RecDataReader(args)\n",
    "                # fairness calculator\n",
    "                args.fair_group_feature = group_feature\n",
    "                fairness_controller = FairUserGroupPerformance(args, reader)\n",
    "            # model\n",
    "            modelClass = eval('{0}.{0}'.format(modelDef))\n",
    "            model = modelClass(args, reader, device)\n",
    "            model.load_from_checkpoint(args.model_path, with_optimizer = False)\n",
    "            model = model.to(device)\n",
    "            model.device = device\n",
    "            # header\n",
    "            if count == 0:\n",
    "                uG = get_userwise_group(model, group_feature, fairness_controller)\n",
    "                fout.write('\\t'.join(['model','fair_group','fair_lambda','metric'] + [str(uid) for uid in uG.keys()]) + '\\n')\n",
    "                fout.write('\\t'.join(['all','-','-','group'] + list(uG.values())) + '\\n')\n",
    "            count += 1\n",
    "            # evaluation\n",
    "            user_results = get_userwise_performance(model, params['at_k_list'])\n",
    "            for m in metrics:\n",
    "                fout.write('\\t'.join([modelName,args.fair_group_feature,str(args.fair_lambda),m] + \n",
    "                                     [str(user_results[uid][m]) if uid in user_results else '0' for uid in uG]) + '\\n')"
   ]
  },
  {
   "cell_type": "code",
   "execution_count": null,
   "metadata": {},
   "outputs": [],
   "source": [
    "# result_file_path = ROOT + data_key + \"/results/fairness_activity_20220113_124929.csv\"\n",
    "with open(result_file_path, 'r') as fin:\n",
    "    header = fin.readline().strip().split('\\t')\n",
    "    result_dict = {i: [h] for i,h in enumerate(header)}\n",
    "    for line in fin:\n",
    "        row = line.strip().split('\\t')\n",
    "        for i,v in enumerate(row):\n",
    "            result_dict[i].append(v)"
   ]
  },
  {
   "cell_type": "code",
   "execution_count": null,
   "metadata": {},
   "outputs": [],
   "source": [
    "import pandas as pd\n",
    "df = pd.DataFrame.from_dict(result_dict,orient='index')\n",
    "df[:10]"
   ]
  },
  {
   "cell_type": "code",
   "execution_count": null,
   "metadata": {},
   "outputs": [],
   "source": [
    "import numpy as np\n",
    "groups = np.unique(df[1].values[4:])"
   ]
  },
  {
   "cell_type": "code",
   "execution_count": null,
   "metadata": {},
   "outputs": [],
   "source": [
    "import numpy as np\n",
    "from tqdm import tqdm\n",
    "group_metrics = {G: {} for G in groups}\n",
    "for G in tqdm(groups):\n",
    "    subset = df.loc[df[1] == G]\n",
    "    \n",
    "    for col in range(2,len(df.columns)):\n",
    "        label = '-'.join([df[col].iloc[i] for i in range(4)])\n",
    "        group_metrics[G][label] = np.mean([float(v) for v in subset[col].values])\n",
    "print(group_metrics)"
   ]
  },
  {
   "cell_type": "code",
   "execution_count": null,
   "metadata": {},
   "outputs": [],
   "source": [
    "def get_diff(groupwise_performance, rho = 1):\n",
    "    S = []\n",
    "    for i,v0 in enumerate(groupwise_performance):\n",
    "        for v1 in groupwise_performance[i+1:]:\n",
    "            S.append(abs(v0-v1) ** rho)\n",
    "    return np.mean(S)\n",
    "\n",
    "for label in group_metrics[groups[0]]:\n",
    "    groupwise_performance = [group_metrics[G][label] for G in groups]\n",
    "    print(f\"{label}\\t: {get_diff(groupwise_performance)}\\t {groupwise_performance}\")"
   ]
  },
  {
   "cell_type": "markdown",
   "metadata": {},
   "source": [
    "## Plots"
   ]
  },
  {
   "cell_type": "code",
   "execution_count": 11,
   "metadata": {},
   "outputs": [],
   "source": [
    "def plot_dist(V1, V2):\n",
    "    n, bins, patches = plt.hist(V1, 50, density=True, alpha=0.7)\n",
    "    n, bins, patches = plt.hist(V2, 50, density=True, alpha=0.7)\n",
    "    plt.show()"
   ]
  },
  {
   "cell_type": "code",
   "execution_count": 25,
   "metadata": {},
   "outputs": [
    {
     "name": "stderr",
     "output_type": "stream",
     "text": [
      "100%|██████████| 2/2 [00:00<00:00, 251.61it/s]\n"
     ]
    }
   ],
   "source": [
    "import numpy as np\n",
    "from tqdm import tqdm\n",
    "pick_column = 6\n",
    "label = '-'.join([df[pick_column].iloc[i] for i in range(4)])\n",
    "group_metrics = {G: {} for G in groups}\n",
    "for G in tqdm(groups):\n",
    "    subset = df.loc[df[1] == G]\n",
    "    group_metrics[G][label] = [float(v) for v in subset[pick_column].values if float(v) > 0]"
   ]
  },
  {
   "cell_type": "code",
   "execution_count": 26,
   "metadata": {},
   "outputs": [
    {
     "name": "stderr",
     "output_type": "stream",
     "text": [
      "/home/sl1471/anaconda3/envs/bmrl/lib/python3.9/site-packages/seaborn/distributions.py:2551: FutureWarning: `distplot` is a deprecated function and will be removed in a future version. Please adapt your code to use either `displot` (a figure-level function with similar flexibility) or `kdeplot` (an axes-level function for kernel density plots).\n",
      "  warnings.warn(msg, FutureWarning)\n",
      "/home/sl1471/anaconda3/envs/bmrl/lib/python3.9/site-packages/seaborn/distributions.py:2055: FutureWarning: The `axis` variable is no longer used and will be removed. Instead, assign variables directly to `x` or `y`.\n",
      "  warnings.warn(msg, FutureWarning)\n",
      "/home/sl1471/anaconda3/envs/bmrl/lib/python3.9/site-packages/seaborn/distributions.py:2551: FutureWarning: `distplot` is a deprecated function and will be removed in a future version. Please adapt your code to use either `displot` (a figure-level function with similar flexibility) or `kdeplot` (an axes-level function for kernel density plots).\n",
      "  warnings.warn(msg, FutureWarning)\n",
      "/home/sl1471/anaconda3/envs/bmrl/lib/python3.9/site-packages/seaborn/distributions.py:2055: FutureWarning: The `axis` variable is no longer used and will be removed. Instead, assign variables directly to `x` or `y`.\n",
      "  warnings.warn(msg, FutureWarning)\n"
     ]
    },
    {
     "data": {
      "image/png": "[encoded data removed]",
      "text/plain": [
       "<Figure size 432x288 with 1 Axes>"
      ]
     },
     "metadata": {
      "needs_background": "light"
     },
     "output_type": "display_data"
    }
   ],
   "source": [
    "%matplotlib inline\n",
    "import matplotlib.pyplot as plt\n",
    "import seaborn as sns\n",
    "\n",
    "for G in groups:\n",
    "    ax = sns.distplot(group_metrics[G][label], rug=True, hist=False, label = G)\n",
    "#     sns.histplot(data=group_metrics[G][label], x = G, kde=True)\n",
    "#     plt.hist(group_metrics[G][label], 50, density = True, label = G)\n",
    "plt.title(label)\n",
    "plt.legend()\n",
    "plt.show()"
   ]
  },
  {
   "cell_type": "code",
   "execution_count": null,
   "metadata": {},
   "outputs": [],
   "source": []
  },
  {
   "cell_type": "code",
   "execution_count": null,
   "metadata": {},
   "outputs": [],
   "source": []
  }
 ],
 "metadata": {
  "kernelspec": {
   "display_name": "BMRL",
   "language": "python",
   "name": "bmrl"
  },
  "language_info": {
   "codemirror_mode": {
    "name": "ipython",
    "version": 3
   },
   "file_extension": ".py",
   "mimetype": "text/x-python",
   "name": "python",
   "nbconvert_exporter": "python",
   "pygments_lexer": "ipython3",
   "version": "3.9.6"
  }
 },
 "nbformat": 4,
 "nbformat_minor": 2
}
